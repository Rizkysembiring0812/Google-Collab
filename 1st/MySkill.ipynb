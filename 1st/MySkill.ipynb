{
  "nbformat": 4,
  "nbformat_minor": 0,
  "metadata": {
    "colab": {
      "provenance": [],
      "authorship_tag": "ABX9TyMSVxfhiYbHrBI+n0jBWK+s",
      "include_colab_link": true
    },
    "kernelspec": {
      "name": "python3",
      "display_name": "Python 3"
    },
    "language_info": {
      "name": "python"
    }
  },
  "cells": [
    {
      "cell_type": "markdown",
      "metadata": {
        "id": "view-in-github",
        "colab_type": "text"
      },
      "source": [
        "<a href=\"https://colab.research.google.com/github/Rizkysembiring0812/Google-Collab/blob/main/1st/MySkill.ipynb\" target=\"_parent\"><img src=\"https://colab.research.google.com/assets/colab-badge.svg\" alt=\"Open In Colab\"/></a>"
      ]
    },
    {
      "cell_type": "code",
      "execution_count": null,
      "metadata": {
        "id": "6BL4c6D6PPkQ"
      },
      "outputs": [],
      "source": [
        "import pandas as pd\n",
        "import numpy as np\n",
        "import matplotlib.pyplot as plt\n",
        "import seaborn as sns\n",
        "import time\n",
        "from sklearn.linear_model import LogisticRegression, LogisticRegressionCV\n",
        "from sklearn.model_selection import GridSearchCV\n",
        "from xgboost import XGBClassifier\n",
        "from sklearn.metrics import confusion_matrix, classification_report, make_scorer,accuracy_score,precision_score,recall_score,f1_score\n",
        "from sklearn.ensemble import RandomForestClassifier\n",
        "from sklearn import metrics"
      ]
    },
    {
      "cell_type": "code",
      "execution_count": null,
      "metadata": {
        "id": "t1a5qyb2gH75"
      },
      "outputs": [],
      "source": [
        "path_1 = \"https://raw.githubusercontent.com/brainspopper/dataset/main/FinanKu%20Data%20All.csv\"\n",
        "path_2 = \"https://raw.githubusercontent.com/brainspopper/dataset/main/FinanKu%20Data%20Validasi.csv\"\n",
        "df_1 = pd.read_csv(path_1)\n",
        "df_2 = pd.read_csv(path_2)"
      ]
    },
    {
      "cell_type": "code",
      "source": [
        "df_1.info()"
      ],
      "metadata": {
        "colab": {
          "base_uri": "https://localhost:8080/"
        },
        "id": "fbW4VNLQQByI",
        "outputId": "de29c172-b14f-45fb-ca8b-5cf2984c6ff0"
      },
      "execution_count": null,
      "outputs": [
        {
          "output_type": "stream",
          "name": "stdout",
          "text": [
            "<class 'pandas.core.frame.DataFrame'>\n",
            "RangeIndex: 7561 entries, 0 to 7560\n",
            "Data columns (total 22 columns):\n",
            " #   Column                    Non-Null Count  Dtype  \n",
            "---  ------                    --------------  -----  \n",
            " 0   Customer ID               7561 non-null   int64  \n",
            " 1   Branch Code               7561 non-null   int64  \n",
            " 2   City                      7561 non-null   object \n",
            " 3   Age                       7561 non-null   int64  \n",
            " 4   Avg. Annual Income/Month  7561 non-null   int64  \n",
            " 5   Balance Q1                7561 non-null   float64\n",
            " 6   NumOfProducts Q1          7561 non-null   int64  \n",
            " 7   HasCrCard Q1              7561 non-null   int64  \n",
            " 8   ActiveMember Q1           7561 non-null   int64  \n",
            " 9   Balance Q2                7561 non-null   float64\n",
            " 10  NumOfProducts Q2          7561 non-null   int64  \n",
            " 11  HasCrCard Q2              7561 non-null   int64  \n",
            " 12  ActiveMember Q2           7561 non-null   int64  \n",
            " 13  Balance Q3                7561 non-null   float64\n",
            " 14  NumOfProducts Q3          7561 non-null   int64  \n",
            " 15  HasCrCard Q3              7561 non-null   int64  \n",
            " 16  ActiveMember Q3           7561 non-null   int64  \n",
            " 17  Balance Q4                7561 non-null   float64\n",
            " 18  NumOfProducts Q4          7561 non-null   int64  \n",
            " 19  HasCrCard Q4              7561 non-null   int64  \n",
            " 20  ActiveMember Q4           7561 non-null   int64  \n",
            " 21  Unpaid Tagging            7561 non-null   int64  \n",
            "dtypes: float64(4), int64(17), object(1)\n",
            "memory usage: 1.3+ MB\n"
          ]
        }
      ]
    },
    {
      "cell_type": "code",
      "source": [
        "df_2.info()"
      ],
      "metadata": {
        "colab": {
          "base_uri": "https://localhost:8080/"
        },
        "id": "9ioK95xTQJm_",
        "outputId": "8477d670-053a-4e0b-8625-fa6dec6b0ed6"
      },
      "execution_count": null,
      "outputs": [
        {
          "output_type": "stream",
          "name": "stdout",
          "text": [
            "<class 'pandas.core.frame.DataFrame'>\n",
            "RangeIndex: 7561 entries, 0 to 7560\n",
            "Data columns (total 22 columns):\n",
            " #   Column                    Non-Null Count  Dtype  \n",
            "---  ------                    --------------  -----  \n",
            " 0   Customer ID               7561 non-null   int64  \n",
            " 1   Branch Code               7561 non-null   int64  \n",
            " 2   City                      7561 non-null   object \n",
            " 3   Age                       7561 non-null   int64  \n",
            " 4   Avg. Annual Income/Month  7561 non-null   int64  \n",
            " 5   Balance Q2                7561 non-null   float64\n",
            " 6   NumOfProducts Q2          7561 non-null   int64  \n",
            " 7   HasCrCard Q2              7561 non-null   int64  \n",
            " 8   ActiveMember Q2           7561 non-null   int64  \n",
            " 9   Balance Q3                7561 non-null   float64\n",
            " 10  NumOfProducts Q3          7561 non-null   int64  \n",
            " 11  HasCrCard Q3              7561 non-null   int64  \n",
            " 12  ActiveMember Q3           7561 non-null   int64  \n",
            " 13  Balance Q4                7561 non-null   float64\n",
            " 14  NumOfProducts Q4          7561 non-null   int64  \n",
            " 15  HasCrCard Q4              7561 non-null   int64  \n",
            " 16  ActiveMember Q4           7561 non-null   int64  \n",
            " 17  Balance Q5                7561 non-null   float64\n",
            " 18  NumOfProducts Q5          7561 non-null   int64  \n",
            " 19  HasCrCard Q5              7561 non-null   int64  \n",
            " 20  ActiveMember Q5           7561 non-null   int64  \n",
            " 21  Unpaid Tagging            7561 non-null   int64  \n",
            "dtypes: float64(4), int64(17), object(1)\n",
            "memory usage: 1.3+ MB\n"
          ]
        }
      ]
    },
    {
      "cell_type": "code",
      "source": [
        "df_1.duplicated().sum()"
      ],
      "metadata": {
        "colab": {
          "base_uri": "https://localhost:8080/"
        },
        "id": "tm5gLBsAQT_g",
        "outputId": "af80d2d7-0a80-4494-eeec-221fe486ada3"
      },
      "execution_count": null,
      "outputs": [
        {
          "output_type": "execute_result",
          "data": {
            "text/plain": [
              "0"
            ]
          },
          "metadata": {},
          "execution_count": 5
        }
      ]
    },
    {
      "cell_type": "code",
      "source": [
        "df_2.duplicated().sum()"
      ],
      "metadata": {
        "colab": {
          "base_uri": "https://localhost:8080/"
        },
        "id": "K8pa9oLSRAyH",
        "outputId": "3cc873db-987c-4d9d-b409-3d714fa4e0f5"
      },
      "execution_count": null,
      "outputs": [
        {
          "output_type": "execute_result",
          "data": {
            "text/plain": [
              "0"
            ]
          },
          "metadata": {},
          "execution_count": 6
        }
      ]
    },
    {
      "cell_type": "code",
      "source": [
        "df_1.isnull().sum()"
      ],
      "metadata": {
        "colab": {
          "base_uri": "https://localhost:8080/"
        },
        "collapsed": true,
        "id": "cPOgAzMYREGY",
        "outputId": "394c45e1-ffc2-470f-85fe-eb197d8fa295"
      },
      "execution_count": null,
      "outputs": [
        {
          "output_type": "execute_result",
          "data": {
            "text/plain": [
              "Customer ID                 0\n",
              "Branch Code                 0\n",
              "City                        0\n",
              "Age                         0\n",
              "Avg. Annual Income/Month    0\n",
              "Balance Q1                  0\n",
              "NumOfProducts Q1            0\n",
              "HasCrCard Q1                0\n",
              "ActiveMember Q1             0\n",
              "Balance Q2                  0\n",
              "NumOfProducts Q2            0\n",
              "HasCrCard Q2                0\n",
              "ActiveMember Q2             0\n",
              "Balance Q3                  0\n",
              "NumOfProducts Q3            0\n",
              "HasCrCard Q3                0\n",
              "ActiveMember Q3             0\n",
              "Balance Q4                  0\n",
              "NumOfProducts Q4            0\n",
              "HasCrCard Q4                0\n",
              "ActiveMember Q4             0\n",
              "Unpaid Tagging              0\n",
              "dtype: int64"
            ]
          },
          "metadata": {},
          "execution_count": 7
        }
      ]
    },
    {
      "cell_type": "code",
      "source": [
        "df_2.isnull().sum()"
      ],
      "metadata": {
        "colab": {
          "base_uri": "https://localhost:8080/"
        },
        "collapsed": true,
        "id": "YhRkBRMyRNPw",
        "outputId": "9b756e9d-a659-4352-a65f-bfb447232360"
      },
      "execution_count": null,
      "outputs": [
        {
          "output_type": "execute_result",
          "data": {
            "text/plain": [
              "Customer ID                 0\n",
              "Branch Code                 0\n",
              "City                        0\n",
              "Age                         0\n",
              "Avg. Annual Income/Month    0\n",
              "Balance Q2                  0\n",
              "NumOfProducts Q2            0\n",
              "HasCrCard Q2                0\n",
              "ActiveMember Q2             0\n",
              "Balance Q3                  0\n",
              "NumOfProducts Q3            0\n",
              "HasCrCard Q3                0\n",
              "ActiveMember Q3             0\n",
              "Balance Q4                  0\n",
              "NumOfProducts Q4            0\n",
              "HasCrCard Q4                0\n",
              "ActiveMember Q4             0\n",
              "Balance Q5                  0\n",
              "NumOfProducts Q5            0\n",
              "HasCrCard Q5                0\n",
              "ActiveMember Q5             0\n",
              "Unpaid Tagging              0\n",
              "dtype: int64"
            ]
          },
          "metadata": {},
          "execution_count": 8
        }
      ]
    },
    {
      "cell_type": "code",
      "source": [
        "df_1['Branch Code'].value_counts()"
      ],
      "metadata": {
        "colab": {
          "base_uri": "https://localhost:8080/"
        },
        "collapsed": true,
        "id": "GHM4D2THRVyo",
        "outputId": "2fc2846e-b287-42ad-c04a-3b235ba1cf1a"
      },
      "execution_count": null,
      "outputs": [
        {
          "output_type": "execute_result",
          "data": {
            "text/plain": [
              "Branch Code\n",
              "1024    977\n",
              "1021    954\n",
              "1023    929\n",
              "1022    907\n",
              "1011    403\n",
              "1012    391\n",
              "1013    387\n",
              "1014    365\n",
              "1015    352\n",
              "1004    225\n",
              "1005    220\n",
              "1002    214\n",
              "1003    214\n",
              "1009    211\n",
              "1001    211\n",
              "1008    204\n",
              "1007    201\n",
              "1006    196\n",
              "Name: count, dtype: int64"
            ]
          },
          "metadata": {},
          "execution_count": 9
        }
      ]
    },
    {
      "cell_type": "code",
      "source": [
        "df_2['Branch Code'].value_counts()"
      ],
      "metadata": {
        "colab": {
          "base_uri": "https://localhost:8080/"
        },
        "collapsed": true,
        "id": "qCJ0VnhnSRAf",
        "outputId": "c4798720-f1b3-4052-8d58-fe1a9af57d53"
      },
      "execution_count": null,
      "outputs": [
        {
          "output_type": "execute_result",
          "data": {
            "text/plain": [
              "Branch Code\n",
              "1024    977\n",
              "1021    954\n",
              "1023    929\n",
              "1022    907\n",
              "1011    403\n",
              "1012    391\n",
              "1013    387\n",
              "1014    365\n",
              "1015    352\n",
              "1004    225\n",
              "1005    220\n",
              "1002    214\n",
              "1003    214\n",
              "1009    211\n",
              "1001    211\n",
              "1008    204\n",
              "1007    201\n",
              "1006    196\n",
              "Name: count, dtype: int64"
            ]
          },
          "metadata": {},
          "execution_count": 10
        }
      ]
    },
    {
      "cell_type": "code",
      "source": [
        "df_1['City'].value_counts()"
      ],
      "metadata": {
        "colab": {
          "base_uri": "https://localhost:8080/"
        },
        "collapsed": true,
        "id": "3MpQrRUcST7X",
        "outputId": "88a78f8e-afeb-4e9d-8488-1133cccd94fb"
      },
      "execution_count": null,
      "outputs": [
        {
          "output_type": "execute_result",
          "data": {
            "text/plain": [
              "City\n",
              "Surabaya    3767\n",
              "Bandung     1898\n",
              "Jakarta     1896\n",
              "Name: count, dtype: int64"
            ]
          },
          "metadata": {},
          "execution_count": 11
        }
      ]
    },
    {
      "cell_type": "code",
      "source": [
        "df_2['City'].value_counts()"
      ],
      "metadata": {
        "colab": {
          "base_uri": "https://localhost:8080/"
        },
        "collapsed": true,
        "id": "GA_q9Ec7SUDo",
        "outputId": "9428d5f3-b027-4dfc-9437-a2124ab39e10"
      },
      "execution_count": null,
      "outputs": [
        {
          "output_type": "execute_result",
          "data": {
            "text/plain": [
              "City\n",
              "Surabaya    3767\n",
              "Bandung     1898\n",
              "Jakarta     1896\n",
              "Name: count, dtype: int64"
            ]
          },
          "metadata": {},
          "execution_count": 12
        }
      ]
    },
    {
      "cell_type": "code",
      "source": [
        "df_1['Age'].value_counts()"
      ],
      "metadata": {
        "colab": {
          "base_uri": "https://localhost:8080/"
        },
        "collapsed": true,
        "id": "pv97BYbDSa4w",
        "outputId": "5dfb51bd-f479-48cc-fc65-9a18f98e1898"
      },
      "execution_count": null,
      "outputs": [
        {
          "output_type": "execute_result",
          "data": {
            "text/plain": [
              "Age\n",
              "24    181\n",
              "43    178\n",
              "36    178\n",
              "39    175\n",
              "42    172\n",
              "54    171\n",
              "34    169\n",
              "29    168\n",
              "46    168\n",
              "38    166\n",
              "22    163\n",
              "30    162\n",
              "62    161\n",
              "52    158\n",
              "26    158\n",
              "67    157\n",
              "65    157\n",
              "44    156\n",
              "27    156\n",
              "49    155\n",
              "56    155\n",
              "69    154\n",
              "53    154\n",
              "35    152\n",
              "55    151\n",
              "28    151\n",
              "60    151\n",
              "57    151\n",
              "37    150\n",
              "32    150\n",
              "59    150\n",
              "40    150\n",
              "48    150\n",
              "51    149\n",
              "61    149\n",
              "58    149\n",
              "66    148\n",
              "68    146\n",
              "25    146\n",
              "23    145\n",
              "33    143\n",
              "64    143\n",
              "45    142\n",
              "41    140\n",
              "70    139\n",
              "63    138\n",
              "47    137\n",
              "31    135\n",
              "50    134\n",
              "Name: count, dtype: int64"
            ]
          },
          "metadata": {},
          "execution_count": 13
        }
      ]
    },
    {
      "cell_type": "code",
      "source": [
        "df_2['Age'].value_counts()"
      ],
      "metadata": {
        "colab": {
          "base_uri": "https://localhost:8080/"
        },
        "collapsed": true,
        "id": "fkjkYC0ZSeHo",
        "outputId": "3312d4b3-1dfe-40da-b680-af4760507181"
      },
      "execution_count": null,
      "outputs": [
        {
          "output_type": "execute_result",
          "data": {
            "text/plain": [
              "Age\n",
              "24    181\n",
              "43    178\n",
              "36    178\n",
              "39    175\n",
              "42    172\n",
              "54    171\n",
              "34    169\n",
              "29    168\n",
              "46    168\n",
              "38    166\n",
              "22    163\n",
              "30    162\n",
              "62    161\n",
              "52    158\n",
              "26    158\n",
              "67    157\n",
              "65    157\n",
              "44    156\n",
              "27    156\n",
              "49    155\n",
              "56    155\n",
              "69    154\n",
              "53    154\n",
              "35    152\n",
              "55    151\n",
              "28    151\n",
              "60    151\n",
              "57    151\n",
              "37    150\n",
              "32    150\n",
              "59    150\n",
              "40    150\n",
              "48    150\n",
              "51    149\n",
              "61    149\n",
              "58    149\n",
              "66    148\n",
              "68    146\n",
              "25    146\n",
              "23    145\n",
              "33    143\n",
              "64    143\n",
              "45    142\n",
              "41    140\n",
              "70    139\n",
              "63    138\n",
              "47    137\n",
              "31    135\n",
              "50    134\n",
              "Name: count, dtype: int64"
            ]
          },
          "metadata": {},
          "execution_count": 14
        }
      ]
    },
    {
      "cell_type": "code",
      "source": [
        "df = pd.merge(df_1, df_2, on=['Customer ID', 'Branch Code', 'City', 'Age', 'Avg. Annual Income/Month', 'Balance Q2', 'NumOfProducts Q2', 'HasCrCard Q2', 'ActiveMember Q2', 'Balance Q3', 'NumOfProducts Q3', 'HasCrCard Q3', 'ActiveMember Q3', 'Balance Q4', 'NumOfProducts Q4', 'HasCrCard Q4', 'ActiveMember Q4', 'Unpaid Tagging'])"
      ],
      "metadata": {
        "collapsed": true,
        "id": "69XUfYU9YgUG"
      },
      "execution_count": null,
      "outputs": []
    },
    {
      "cell_type": "code",
      "source": [
        "df.info()"
      ],
      "metadata": {
        "colab": {
          "base_uri": "https://localhost:8080/"
        },
        "collapsed": true,
        "id": "QH_n5I4XYgeH",
        "outputId": "f2da9224-e8d5-45a4-db9c-f8cf05baef55"
      },
      "execution_count": null,
      "outputs": [
        {
          "output_type": "stream",
          "name": "stdout",
          "text": [
            "<class 'pandas.core.frame.DataFrame'>\n",
            "RangeIndex: 5519 entries, 0 to 5518\n",
            "Data columns (total 26 columns):\n",
            " #   Column                    Non-Null Count  Dtype  \n",
            "---  ------                    --------------  -----  \n",
            " 0   Customer ID               5519 non-null   int64  \n",
            " 1   Branch Code               5519 non-null   int64  \n",
            " 2   City                      5519 non-null   object \n",
            " 3   Age                       5519 non-null   int64  \n",
            " 4   Avg. Annual Income/Month  5519 non-null   int64  \n",
            " 5   Balance Q1                5519 non-null   float64\n",
            " 6   NumOfProducts Q1          5519 non-null   int64  \n",
            " 7   HasCrCard Q1              5519 non-null   int64  \n",
            " 8   ActiveMember Q1           5519 non-null   int64  \n",
            " 9   Balance Q2                5519 non-null   float64\n",
            " 10  NumOfProducts Q2          5519 non-null   int64  \n",
            " 11  HasCrCard Q2              5519 non-null   int64  \n",
            " 12  ActiveMember Q2           5519 non-null   int64  \n",
            " 13  Balance Q3                5519 non-null   float64\n",
            " 14  NumOfProducts Q3          5519 non-null   int64  \n",
            " 15  HasCrCard Q3              5519 non-null   int64  \n",
            " 16  ActiveMember Q3           5519 non-null   int64  \n",
            " 17  Balance Q4                5519 non-null   float64\n",
            " 18  NumOfProducts Q4          5519 non-null   int64  \n",
            " 19  HasCrCard Q4              5519 non-null   int64  \n",
            " 20  ActiveMember Q4           5519 non-null   int64  \n",
            " 21  Unpaid Tagging            5519 non-null   int64  \n",
            " 22  Balance Q5                5519 non-null   float64\n",
            " 23  NumOfProducts Q5          5519 non-null   int64  \n",
            " 24  HasCrCard Q5              5519 non-null   int64  \n",
            " 25  ActiveMember Q5           5519 non-null   int64  \n",
            "dtypes: float64(5), int64(20), object(1)\n",
            "memory usage: 1.1+ MB\n"
          ]
        }
      ]
    },
    {
      "cell_type": "code",
      "source": [
        "df['Mean Balance'] = (df['Balance Q1']+df['Balance Q2']+df['Balance Q3']+df['Balance Q4'])/4\n",
        "df['Delta Balance'] = df['Balance Q5']-df['Balance Q1']"
      ],
      "metadata": {
        "id": "D3XkEHYGStpA"
      },
      "execution_count": null,
      "outputs": []
    },
    {
      "cell_type": "code",
      "source": [
        "df['Active Months'] = (df['ActiveMember Q1']+df['ActiveMember Q2']+df['ActiveMember Q3']+df['ActiveMember Q4']+df['ActiveMember Q5'])*3"
      ],
      "metadata": {
        "id": "VjpRBNapSt05"
      },
      "execution_count": null,
      "outputs": []
    },
    {
      "cell_type": "code",
      "source": [
        "df['Diff PH'] = df['NumOfProducts Q5']-df['NumOfProducts Q1']"
      ],
      "metadata": {
        "id": "-PH0LazJSt6h"
      },
      "execution_count": null,
      "outputs": []
    },
    {
      "cell_type": "code",
      "source": [
        "def assign_cr1(df):\n",
        "    if df['HasCrCard Q1'] == 1:\n",
        "        return 15\n",
        "    elif df['HasCrCard Q2'] == 1:\n",
        "        return 12\n",
        "    elif df['HasCrCard Q3'] == 1:\n",
        "        return 9\n",
        "    elif df['HasCrCard Q3'] == 1:\n",
        "        return 6\n",
        "    else:\n",
        "        return 3\n",
        "    return np.nan"
      ],
      "metadata": {
        "id": "chDWmiClUBR7"
      },
      "execution_count": null,
      "outputs": []
    },
    {
      "cell_type": "code",
      "source": [
        "df['Vintage_CR'] = df.apply(assign_cr1, axis = 1)"
      ],
      "metadata": {
        "id": "VjblNHP4UBY3"
      },
      "execution_count": null,
      "outputs": []
    },
    {
      "cell_type": "code",
      "source": [
        "df.info()"
      ],
      "metadata": {
        "colab": {
          "base_uri": "https://localhost:8080/"
        },
        "id": "Zfm995eYVNxa",
        "outputId": "82568aaa-0e80-4600-c301-14f5a058190d"
      },
      "execution_count": null,
      "outputs": [
        {
          "output_type": "stream",
          "name": "stdout",
          "text": [
            "<class 'pandas.core.frame.DataFrame'>\n",
            "RangeIndex: 5519 entries, 0 to 5518\n",
            "Data columns (total 31 columns):\n",
            " #   Column                    Non-Null Count  Dtype  \n",
            "---  ------                    --------------  -----  \n",
            " 0   Customer ID               5519 non-null   int64  \n",
            " 1   Branch Code               5519 non-null   int64  \n",
            " 2   City                      5519 non-null   object \n",
            " 3   Age                       5519 non-null   int64  \n",
            " 4   Avg. Annual Income/Month  5519 non-null   int64  \n",
            " 5   Balance Q1                5519 non-null   float64\n",
            " 6   NumOfProducts Q1          5519 non-null   int64  \n",
            " 7   HasCrCard Q1              5519 non-null   int64  \n",
            " 8   ActiveMember Q1           5519 non-null   int64  \n",
            " 9   Balance Q2                5519 non-null   float64\n",
            " 10  NumOfProducts Q2          5519 non-null   int64  \n",
            " 11  HasCrCard Q2              5519 non-null   int64  \n",
            " 12  ActiveMember Q2           5519 non-null   int64  \n",
            " 13  Balance Q3                5519 non-null   float64\n",
            " 14  NumOfProducts Q3          5519 non-null   int64  \n",
            " 15  HasCrCard Q3              5519 non-null   int64  \n",
            " 16  ActiveMember Q3           5519 non-null   int64  \n",
            " 17  Balance Q4                5519 non-null   float64\n",
            " 18  NumOfProducts Q4          5519 non-null   int64  \n",
            " 19  HasCrCard Q4              5519 non-null   int64  \n",
            " 20  ActiveMember Q4           5519 non-null   int64  \n",
            " 21  Unpaid Tagging            5519 non-null   int64  \n",
            " 22  Balance Q5                5519 non-null   float64\n",
            " 23  NumOfProducts Q5          5519 non-null   int64  \n",
            " 24  HasCrCard Q5              5519 non-null   int64  \n",
            " 25  ActiveMember Q5           5519 non-null   int64  \n",
            " 26  Mean Balance              5519 non-null   float64\n",
            " 27  Delta Balance             5519 non-null   float64\n",
            " 28  Active Months             5519 non-null   int64  \n",
            " 29  Diff PH                   5519 non-null   int64  \n",
            " 30  Vintage_CR                5519 non-null   int64  \n",
            "dtypes: float64(7), int64(23), object(1)\n",
            "memory usage: 1.3+ MB\n"
          ]
        }
      ]
    },
    {
      "cell_type": "code",
      "source": [
        "df = df.drop(columns = ['HasCrCard Q1', 'HasCrCard Q2', 'HasCrCard Q3', 'HasCrCard Q4', 'HasCrCard Q5'])"
      ],
      "metadata": {
        "id": "bwYHyE7jUBfk"
      },
      "execution_count": null,
      "outputs": []
    },
    {
      "cell_type": "code",
      "source": [
        "df = df.drop(columns = ['Balance Q1', 'Balance Q2', 'Balance Q3', 'Balance Q4', 'Balance Q5'])"
      ],
      "metadata": {
        "id": "0aGN0I-FU4wk"
      },
      "execution_count": null,
      "outputs": []
    },
    {
      "cell_type": "code",
      "source": [
        "df = df.drop(columns = ['NumOfProducts Q1', 'NumOfProducts Q2', 'NumOfProducts Q3', 'NumOfProducts Q4', 'NumOfProducts Q5'])"
      ],
      "metadata": {
        "id": "wqD2Q5wpU43_"
      },
      "execution_count": null,
      "outputs": []
    },
    {
      "cell_type": "code",
      "source": [
        "df = df.drop(columns = ['ActiveMember Q1', 'ActiveMember Q2', 'ActiveMember Q3', 'ActiveMember Q4', 'ActiveMember Q5'])"
      ],
      "metadata": {
        "id": "Ok9sw-VlU4-_"
      },
      "execution_count": null,
      "outputs": []
    },
    {
      "cell_type": "code",
      "source": [
        "df"
      ],
      "metadata": {
        "colab": {
          "base_uri": "https://localhost:8080/",
          "height": 444
        },
        "id": "_iBfBKf2bFj3",
        "outputId": "362b13c2-c4d0-4a30-fb1d-559a8b12a628"
      },
      "execution_count": null,
      "outputs": [
        {
          "output_type": "execute_result",
          "data": {
            "text/plain": [
              "      Customer ID  Branch Code      City  Age  Avg. Annual Income/Month  \\\n",
              "0        15565701         1001   Jakarta   29                  33000000   \n",
              "1        15566091         1009   Jakarta   25                  12000000   \n",
              "2        15566312         1009   Jakarta   43                  29000000   \n",
              "3        15566495         1005   Jakarta   27                  15000000   \n",
              "4        15566543         1003   Jakarta   68                  26000000   \n",
              "...           ...          ...       ...  ...                       ...   \n",
              "5514     15815295         1021  Surabaya   36                  38000000   \n",
              "5515     15815530         1024  Surabaya   48                  29000000   \n",
              "5516     15815615         1024  Surabaya   55                  18000000   \n",
              "5517     15815628         1024  Surabaya   48                  18000000   \n",
              "5518     15815645         1021  Surabaya   69                  20000000   \n",
              "\n",
              "      Unpaid Tagging  Mean Balance  Delta Balance  Active Months  Diff PH  \\\n",
              "0                  1  2.967590e+05   1.305740e+06              9        0   \n",
              "1                  0  3.379551e+05   1.622184e+06              6        0   \n",
              "2                  0  2.775241e+05   4.311907e+05              6        1   \n",
              "3                  0  5.306120e+07   1.365946e+07             12        0   \n",
              "4                  0  1.099276e+08   5.402212e+07             12        2   \n",
              "...              ...           ...            ...            ...      ...   \n",
              "5514               1  1.241092e+08   6.118796e+06              6        0   \n",
              "5515               0  1.374084e+05   5.203366e+05             12        1   \n",
              "5516               0  1.685507e+08   0.000000e+00              0        0   \n",
              "5517               0  0.000000e+00   0.000000e+00              0        0   \n",
              "5518               0  3.784131e+07  -1.495900e+04             12        0   \n",
              "\n",
              "      Vintage_CR  \n",
              "0             15  \n",
              "1             15  \n",
              "2             15  \n",
              "3             15  \n",
              "4             15  \n",
              "...          ...  \n",
              "5514          15  \n",
              "5515          15  \n",
              "5516          15  \n",
              "5517          15  \n",
              "5518          15  \n",
              "\n",
              "[5519 rows x 11 columns]"
            ],
            "text/html": [
              "\n",
              "  <div id=\"df-7f47ec7b-0a40-4610-9d6b-91807cf1b41d\" class=\"colab-df-container\">\n",
              "    <div>\n",
              "<style scoped>\n",
              "    .dataframe tbody tr th:only-of-type {\n",
              "        vertical-align: middle;\n",
              "    }\n",
              "\n",
              "    .dataframe tbody tr th {\n",
              "        vertical-align: top;\n",
              "    }\n",
              "\n",
              "    .dataframe thead th {\n",
              "        text-align: right;\n",
              "    }\n",
              "</style>\n",
              "<table border=\"1\" class=\"dataframe\">\n",
              "  <thead>\n",
              "    <tr style=\"text-align: right;\">\n",
              "      <th></th>\n",
              "      <th>Customer ID</th>\n",
              "      <th>Branch Code</th>\n",
              "      <th>City</th>\n",
              "      <th>Age</th>\n",
              "      <th>Avg. Annual Income/Month</th>\n",
              "      <th>Unpaid Tagging</th>\n",
              "      <th>Mean Balance</th>\n",
              "      <th>Delta Balance</th>\n",
              "      <th>Active Months</th>\n",
              "      <th>Diff PH</th>\n",
              "      <th>Vintage_CR</th>\n",
              "    </tr>\n",
              "  </thead>\n",
              "  <tbody>\n",
              "    <tr>\n",
              "      <th>0</th>\n",
              "      <td>15565701</td>\n",
              "      <td>1001</td>\n",
              "      <td>Jakarta</td>\n",
              "      <td>29</td>\n",
              "      <td>33000000</td>\n",
              "      <td>1</td>\n",
              "      <td>2.967590e+05</td>\n",
              "      <td>1.305740e+06</td>\n",
              "      <td>9</td>\n",
              "      <td>0</td>\n",
              "      <td>15</td>\n",
              "    </tr>\n",
              "    <tr>\n",
              "      <th>1</th>\n",
              "      <td>15566091</td>\n",
              "      <td>1009</td>\n",
              "      <td>Jakarta</td>\n",
              "      <td>25</td>\n",
              "      <td>12000000</td>\n",
              "      <td>0</td>\n",
              "      <td>3.379551e+05</td>\n",
              "      <td>1.622184e+06</td>\n",
              "      <td>6</td>\n",
              "      <td>0</td>\n",
              "      <td>15</td>\n",
              "    </tr>\n",
              "    <tr>\n",
              "      <th>2</th>\n",
              "      <td>15566312</td>\n",
              "      <td>1009</td>\n",
              "      <td>Jakarta</td>\n",
              "      <td>43</td>\n",
              "      <td>29000000</td>\n",
              "      <td>0</td>\n",
              "      <td>2.775241e+05</td>\n",
              "      <td>4.311907e+05</td>\n",
              "      <td>6</td>\n",
              "      <td>1</td>\n",
              "      <td>15</td>\n",
              "    </tr>\n",
              "    <tr>\n",
              "      <th>3</th>\n",
              "      <td>15566495</td>\n",
              "      <td>1005</td>\n",
              "      <td>Jakarta</td>\n",
              "      <td>27</td>\n",
              "      <td>15000000</td>\n",
              "      <td>0</td>\n",
              "      <td>5.306120e+07</td>\n",
              "      <td>1.365946e+07</td>\n",
              "      <td>12</td>\n",
              "      <td>0</td>\n",
              "      <td>15</td>\n",
              "    </tr>\n",
              "    <tr>\n",
              "      <th>4</th>\n",
              "      <td>15566543</td>\n",
              "      <td>1003</td>\n",
              "      <td>Jakarta</td>\n",
              "      <td>68</td>\n",
              "      <td>26000000</td>\n",
              "      <td>0</td>\n",
              "      <td>1.099276e+08</td>\n",
              "      <td>5.402212e+07</td>\n",
              "      <td>12</td>\n",
              "      <td>2</td>\n",
              "      <td>15</td>\n",
              "    </tr>\n",
              "    <tr>\n",
              "      <th>...</th>\n",
              "      <td>...</td>\n",
              "      <td>...</td>\n",
              "      <td>...</td>\n",
              "      <td>...</td>\n",
              "      <td>...</td>\n",
              "      <td>...</td>\n",
              "      <td>...</td>\n",
              "      <td>...</td>\n",
              "      <td>...</td>\n",
              "      <td>...</td>\n",
              "      <td>...</td>\n",
              "    </tr>\n",
              "    <tr>\n",
              "      <th>5514</th>\n",
              "      <td>15815295</td>\n",
              "      <td>1021</td>\n",
              "      <td>Surabaya</td>\n",
              "      <td>36</td>\n",
              "      <td>38000000</td>\n",
              "      <td>1</td>\n",
              "      <td>1.241092e+08</td>\n",
              "      <td>6.118796e+06</td>\n",
              "      <td>6</td>\n",
              "      <td>0</td>\n",
              "      <td>15</td>\n",
              "    </tr>\n",
              "    <tr>\n",
              "      <th>5515</th>\n",
              "      <td>15815530</td>\n",
              "      <td>1024</td>\n",
              "      <td>Surabaya</td>\n",
              "      <td>48</td>\n",
              "      <td>29000000</td>\n",
              "      <td>0</td>\n",
              "      <td>1.374084e+05</td>\n",
              "      <td>5.203366e+05</td>\n",
              "      <td>12</td>\n",
              "      <td>1</td>\n",
              "      <td>15</td>\n",
              "    </tr>\n",
              "    <tr>\n",
              "      <th>5516</th>\n",
              "      <td>15815615</td>\n",
              "      <td>1024</td>\n",
              "      <td>Surabaya</td>\n",
              "      <td>55</td>\n",
              "      <td>18000000</td>\n",
              "      <td>0</td>\n",
              "      <td>1.685507e+08</td>\n",
              "      <td>0.000000e+00</td>\n",
              "      <td>0</td>\n",
              "      <td>0</td>\n",
              "      <td>15</td>\n",
              "    </tr>\n",
              "    <tr>\n",
              "      <th>5517</th>\n",
              "      <td>15815628</td>\n",
              "      <td>1024</td>\n",
              "      <td>Surabaya</td>\n",
              "      <td>48</td>\n",
              "      <td>18000000</td>\n",
              "      <td>0</td>\n",
              "      <td>0.000000e+00</td>\n",
              "      <td>0.000000e+00</td>\n",
              "      <td>0</td>\n",
              "      <td>0</td>\n",
              "      <td>15</td>\n",
              "    </tr>\n",
              "    <tr>\n",
              "      <th>5518</th>\n",
              "      <td>15815645</td>\n",
              "      <td>1021</td>\n",
              "      <td>Surabaya</td>\n",
              "      <td>69</td>\n",
              "      <td>20000000</td>\n",
              "      <td>0</td>\n",
              "      <td>3.784131e+07</td>\n",
              "      <td>-1.495900e+04</td>\n",
              "      <td>12</td>\n",
              "      <td>0</td>\n",
              "      <td>15</td>\n",
              "    </tr>\n",
              "  </tbody>\n",
              "</table>\n",
              "<p>5519 rows × 11 columns</p>\n",
              "</div>\n",
              "    <div class=\"colab-df-buttons\">\n",
              "\n",
              "  <div class=\"colab-df-container\">\n",
              "    <button class=\"colab-df-convert\" onclick=\"convertToInteractive('df-7f47ec7b-0a40-4610-9d6b-91807cf1b41d')\"\n",
              "            title=\"Convert this dataframe to an interactive table.\"\n",
              "            style=\"display:none;\">\n",
              "\n",
              "  <svg xmlns=\"http://www.w3.org/2000/svg\" height=\"24px\" viewBox=\"0 -960 960 960\">\n",
              "    <path d=\"M120-120v-720h720v720H120Zm60-500h600v-160H180v160Zm220 220h160v-160H400v160Zm0 220h160v-160H400v160ZM180-400h160v-160H180v160Zm440 0h160v-160H620v160ZM180-180h160v-160H180v160Zm440 0h160v-160H620v160Z\"/>\n",
              "  </svg>\n",
              "    </button>\n",
              "\n",
              "  <style>\n",
              "    .colab-df-container {\n",
              "      display:flex;\n",
              "      gap: 12px;\n",
              "    }\n",
              "\n",
              "    .colab-df-convert {\n",
              "      background-color: #E8F0FE;\n",
              "      border: none;\n",
              "      border-radius: 50%;\n",
              "      cursor: pointer;\n",
              "      display: none;\n",
              "      fill: #1967D2;\n",
              "      height: 32px;\n",
              "      padding: 0 0 0 0;\n",
              "      width: 32px;\n",
              "    }\n",
              "\n",
              "    .colab-df-convert:hover {\n",
              "      background-color: #E2EBFA;\n",
              "      box-shadow: 0px 1px 2px rgba(60, 64, 67, 0.3), 0px 1px 3px 1px rgba(60, 64, 67, 0.15);\n",
              "      fill: #174EA6;\n",
              "    }\n",
              "\n",
              "    .colab-df-buttons div {\n",
              "      margin-bottom: 4px;\n",
              "    }\n",
              "\n",
              "    [theme=dark] .colab-df-convert {\n",
              "      background-color: #3B4455;\n",
              "      fill: #D2E3FC;\n",
              "    }\n",
              "\n",
              "    [theme=dark] .colab-df-convert:hover {\n",
              "      background-color: #434B5C;\n",
              "      box-shadow: 0px 1px 3px 1px rgba(0, 0, 0, 0.15);\n",
              "      filter: drop-shadow(0px 1px 2px rgba(0, 0, 0, 0.3));\n",
              "      fill: #FFFFFF;\n",
              "    }\n",
              "  </style>\n",
              "\n",
              "    <script>\n",
              "      const buttonEl =\n",
              "        document.querySelector('#df-7f47ec7b-0a40-4610-9d6b-91807cf1b41d button.colab-df-convert');\n",
              "      buttonEl.style.display =\n",
              "        google.colab.kernel.accessAllowed ? 'block' : 'none';\n",
              "\n",
              "      async function convertToInteractive(key) {\n",
              "        const element = document.querySelector('#df-7f47ec7b-0a40-4610-9d6b-91807cf1b41d');\n",
              "        const dataTable =\n",
              "          await google.colab.kernel.invokeFunction('convertToInteractive',\n",
              "                                                    [key], {});\n",
              "        if (!dataTable) return;\n",
              "\n",
              "        const docLinkHtml = 'Like what you see? Visit the ' +\n",
              "          '<a target=\"_blank\" href=https://colab.research.google.com/notebooks/data_table.ipynb>data table notebook</a>'\n",
              "          + ' to learn more about interactive tables.';\n",
              "        element.innerHTML = '';\n",
              "        dataTable['output_type'] = 'display_data';\n",
              "        await google.colab.output.renderOutput(dataTable, element);\n",
              "        const docLink = document.createElement('div');\n",
              "        docLink.innerHTML = docLinkHtml;\n",
              "        element.appendChild(docLink);\n",
              "      }\n",
              "    </script>\n",
              "  </div>\n",
              "\n",
              "\n",
              "<div id=\"df-9e780128-59ce-486a-b5b8-78da0324a2af\">\n",
              "  <button class=\"colab-df-quickchart\" onclick=\"quickchart('df-9e780128-59ce-486a-b5b8-78da0324a2af')\"\n",
              "            title=\"Suggest charts\"\n",
              "            style=\"display:none;\">\n",
              "\n",
              "<svg xmlns=\"http://www.w3.org/2000/svg\" height=\"24px\"viewBox=\"0 0 24 24\"\n",
              "     width=\"24px\">\n",
              "    <g>\n",
              "        <path d=\"M19 3H5c-1.1 0-2 .9-2 2v14c0 1.1.9 2 2 2h14c1.1 0 2-.9 2-2V5c0-1.1-.9-2-2-2zM9 17H7v-7h2v7zm4 0h-2V7h2v10zm4 0h-2v-4h2v4z\"/>\n",
              "    </g>\n",
              "</svg>\n",
              "  </button>\n",
              "\n",
              "<style>\n",
              "  .colab-df-quickchart {\n",
              "      --bg-color: #E8F0FE;\n",
              "      --fill-color: #1967D2;\n",
              "      --hover-bg-color: #E2EBFA;\n",
              "      --hover-fill-color: #174EA6;\n",
              "      --disabled-fill-color: #AAA;\n",
              "      --disabled-bg-color: #DDD;\n",
              "  }\n",
              "\n",
              "  [theme=dark] .colab-df-quickchart {\n",
              "      --bg-color: #3B4455;\n",
              "      --fill-color: #D2E3FC;\n",
              "      --hover-bg-color: #434B5C;\n",
              "      --hover-fill-color: #FFFFFF;\n",
              "      --disabled-bg-color: #3B4455;\n",
              "      --disabled-fill-color: #666;\n",
              "  }\n",
              "\n",
              "  .colab-df-quickchart {\n",
              "    background-color: var(--bg-color);\n",
              "    border: none;\n",
              "    border-radius: 50%;\n",
              "    cursor: pointer;\n",
              "    display: none;\n",
              "    fill: var(--fill-color);\n",
              "    height: 32px;\n",
              "    padding: 0;\n",
              "    width: 32px;\n",
              "  }\n",
              "\n",
              "  .colab-df-quickchart:hover {\n",
              "    background-color: var(--hover-bg-color);\n",
              "    box-shadow: 0 1px 2px rgba(60, 64, 67, 0.3), 0 1px 3px 1px rgba(60, 64, 67, 0.15);\n",
              "    fill: var(--button-hover-fill-color);\n",
              "  }\n",
              "\n",
              "  .colab-df-quickchart-complete:disabled,\n",
              "  .colab-df-quickchart-complete:disabled:hover {\n",
              "    background-color: var(--disabled-bg-color);\n",
              "    fill: var(--disabled-fill-color);\n",
              "    box-shadow: none;\n",
              "  }\n",
              "\n",
              "  .colab-df-spinner {\n",
              "    border: 2px solid var(--fill-color);\n",
              "    border-color: transparent;\n",
              "    border-bottom-color: var(--fill-color);\n",
              "    animation:\n",
              "      spin 1s steps(1) infinite;\n",
              "  }\n",
              "\n",
              "  @keyframes spin {\n",
              "    0% {\n",
              "      border-color: transparent;\n",
              "      border-bottom-color: var(--fill-color);\n",
              "      border-left-color: var(--fill-color);\n",
              "    }\n",
              "    20% {\n",
              "      border-color: transparent;\n",
              "      border-left-color: var(--fill-color);\n",
              "      border-top-color: var(--fill-color);\n",
              "    }\n",
              "    30% {\n",
              "      border-color: transparent;\n",
              "      border-left-color: var(--fill-color);\n",
              "      border-top-color: var(--fill-color);\n",
              "      border-right-color: var(--fill-color);\n",
              "    }\n",
              "    40% {\n",
              "      border-color: transparent;\n",
              "      border-right-color: var(--fill-color);\n",
              "      border-top-color: var(--fill-color);\n",
              "    }\n",
              "    60% {\n",
              "      border-color: transparent;\n",
              "      border-right-color: var(--fill-color);\n",
              "    }\n",
              "    80% {\n",
              "      border-color: transparent;\n",
              "      border-right-color: var(--fill-color);\n",
              "      border-bottom-color: var(--fill-color);\n",
              "    }\n",
              "    90% {\n",
              "      border-color: transparent;\n",
              "      border-bottom-color: var(--fill-color);\n",
              "    }\n",
              "  }\n",
              "</style>\n",
              "\n",
              "  <script>\n",
              "    async function quickchart(key) {\n",
              "      const quickchartButtonEl =\n",
              "        document.querySelector('#' + key + ' button');\n",
              "      quickchartButtonEl.disabled = true;  // To prevent multiple clicks.\n",
              "      quickchartButtonEl.classList.add('colab-df-spinner');\n",
              "      try {\n",
              "        const charts = await google.colab.kernel.invokeFunction(\n",
              "            'suggestCharts', [key], {});\n",
              "      } catch (error) {\n",
              "        console.error('Error during call to suggestCharts:', error);\n",
              "      }\n",
              "      quickchartButtonEl.classList.remove('colab-df-spinner');\n",
              "      quickchartButtonEl.classList.add('colab-df-quickchart-complete');\n",
              "    }\n",
              "    (() => {\n",
              "      let quickchartButtonEl =\n",
              "        document.querySelector('#df-9e780128-59ce-486a-b5b8-78da0324a2af button');\n",
              "      quickchartButtonEl.style.display =\n",
              "        google.colab.kernel.accessAllowed ? 'block' : 'none';\n",
              "    })();\n",
              "  </script>\n",
              "</div>\n",
              "\n",
              "  <div id=\"id_b0fe5bde-abb3-4c35-b125-88b6df3f59bf\">\n",
              "    <style>\n",
              "      .colab-df-generate {\n",
              "        background-color: #E8F0FE;\n",
              "        border: none;\n",
              "        border-radius: 50%;\n",
              "        cursor: pointer;\n",
              "        display: none;\n",
              "        fill: #1967D2;\n",
              "        height: 32px;\n",
              "        padding: 0 0 0 0;\n",
              "        width: 32px;\n",
              "      }\n",
              "\n",
              "      .colab-df-generate:hover {\n",
              "        background-color: #E2EBFA;\n",
              "        box-shadow: 0px 1px 2px rgba(60, 64, 67, 0.3), 0px 1px 3px 1px rgba(60, 64, 67, 0.15);\n",
              "        fill: #174EA6;\n",
              "      }\n",
              "\n",
              "      [theme=dark] .colab-df-generate {\n",
              "        background-color: #3B4455;\n",
              "        fill: #D2E3FC;\n",
              "      }\n",
              "\n",
              "      [theme=dark] .colab-df-generate:hover {\n",
              "        background-color: #434B5C;\n",
              "        box-shadow: 0px 1px 3px 1px rgba(0, 0, 0, 0.15);\n",
              "        filter: drop-shadow(0px 1px 2px rgba(0, 0, 0, 0.3));\n",
              "        fill: #FFFFFF;\n",
              "      }\n",
              "    </style>\n",
              "    <button class=\"colab-df-generate\" onclick=\"generateWithVariable('df')\"\n",
              "            title=\"Generate code using this dataframe.\"\n",
              "            style=\"display:none;\">\n",
              "\n",
              "  <svg xmlns=\"http://www.w3.org/2000/svg\" height=\"24px\"viewBox=\"0 0 24 24\"\n",
              "       width=\"24px\">\n",
              "    <path d=\"M7,19H8.4L18.45,9,17,7.55,7,17.6ZM5,21V16.75L18.45,3.32a2,2,0,0,1,2.83,0l1.4,1.43a1.91,1.91,0,0,1,.58,1.4,1.91,1.91,0,0,1-.58,1.4L9.25,21ZM18.45,9,17,7.55Zm-12,3A5.31,5.31,0,0,0,4.9,8.1,5.31,5.31,0,0,0,1,6.5,5.31,5.31,0,0,0,4.9,4.9,5.31,5.31,0,0,0,6.5,1,5.31,5.31,0,0,0,8.1,4.9,5.31,5.31,0,0,0,12,6.5,5.46,5.46,0,0,0,6.5,12Z\"/>\n",
              "  </svg>\n",
              "    </button>\n",
              "    <script>\n",
              "      (() => {\n",
              "      const buttonEl =\n",
              "        document.querySelector('#id_b0fe5bde-abb3-4c35-b125-88b6df3f59bf button.colab-df-generate');\n",
              "      buttonEl.style.display =\n",
              "        google.colab.kernel.accessAllowed ? 'block' : 'none';\n",
              "\n",
              "      buttonEl.onclick = () => {\n",
              "        google.colab.notebook.generateWithVariable('df');\n",
              "      }\n",
              "      })();\n",
              "    </script>\n",
              "  </div>\n",
              "\n",
              "    </div>\n",
              "  </div>\n"
            ],
            "application/vnd.google.colaboratory.intrinsic+json": {
              "type": "dataframe",
              "variable_name": "df",
              "summary": "{\n  \"name\": \"df\",\n  \"rows\": 5519,\n  \"fields\": [\n    {\n      \"column\": \"Customer ID\",\n      \"properties\": {\n        \"dtype\": \"number\",\n        \"std\": 71881,\n        \"min\": 15565701,\n        \"max\": 15815690,\n        \"num_unique_values\": 5519,\n        \"samples\": [\n          15596939,\n          15687540,\n          15795990\n        ],\n        \"semantic_type\": \"\",\n        \"description\": \"\"\n      }\n    },\n    {\n      \"column\": \"Branch Code\",\n      \"properties\": {\n        \"dtype\": \"number\",\n        \"std\": 7,\n        \"min\": 1001,\n        \"max\": 1024,\n        \"num_unique_values\": 18,\n        \"samples\": [\n          1001,\n          1009,\n          1006\n        ],\n        \"semantic_type\": \"\",\n        \"description\": \"\"\n      }\n    },\n    {\n      \"column\": \"City\",\n      \"properties\": {\n        \"dtype\": \"category\",\n        \"num_unique_values\": 3,\n        \"samples\": [\n          \"Jakarta\",\n          \"Bandung\",\n          \"Surabaya\"\n        ],\n        \"semantic_type\": \"\",\n        \"description\": \"\"\n      }\n    },\n    {\n      \"column\": \"Age\",\n      \"properties\": {\n        \"dtype\": \"number\",\n        \"std\": 14,\n        \"min\": 22,\n        \"max\": 70,\n        \"num_unique_values\": 49,\n        \"samples\": [\n          24,\n          52,\n          28\n        ],\n        \"semantic_type\": \"\",\n        \"description\": \"\"\n      }\n    },\n    {\n      \"column\": \"Avg. Annual Income/Month\",\n      \"properties\": {\n        \"dtype\": \"number\",\n        \"std\": 11812579,\n        \"min\": 0,\n        \"max\": 60000000,\n        \"num_unique_values\": 58,\n        \"samples\": [\n          33000000,\n          24000000,\n          32000000\n        ],\n        \"semantic_type\": \"\",\n        \"description\": \"\"\n      }\n    },\n    {\n      \"column\": \"Unpaid Tagging\",\n      \"properties\": {\n        \"dtype\": \"number\",\n        \"std\": 0,\n        \"min\": 0,\n        \"max\": 1,\n        \"num_unique_values\": 2,\n        \"samples\": [\n          0,\n          1\n        ],\n        \"semantic_type\": \"\",\n        \"description\": \"\"\n      }\n    },\n    {\n      \"column\": \"Mean Balance\",\n      \"properties\": {\n        \"dtype\": \"number\",\n        \"std\": 55563858.95771491,\n        \"min\": 0.0,\n        \"max\": 294383191.85,\n        \"num_unique_values\": 4677,\n        \"samples\": [\n          156735201.6,\n          131915883.1\n        ],\n        \"semantic_type\": \"\",\n        \"description\": \"\"\n      }\n    },\n    {\n      \"column\": \"Delta Balance\",\n      \"properties\": {\n        \"dtype\": \"number\",\n        \"std\": 10596409.565628137,\n        \"min\": -1358853.0,\n        \"max\": 98682339.20000002,\n        \"num_unique_values\": 4624,\n        \"samples\": [\n          -308533.0,\n          23064222.5\n        ],\n        \"semantic_type\": \"\",\n        \"description\": \"\"\n      }\n    },\n    {\n      \"column\": \"Active Months\",\n      \"properties\": {\n        \"dtype\": \"number\",\n        \"std\": 4,\n        \"min\": 0,\n        \"max\": 15,\n        \"num_unique_values\": 6,\n        \"samples\": [\n          9,\n          6\n        ],\n        \"semantic_type\": \"\",\n        \"description\": \"\"\n      }\n    },\n    {\n      \"column\": \"Diff PH\",\n      \"properties\": {\n        \"dtype\": \"number\",\n        \"std\": 0,\n        \"min\": 0,\n        \"max\": 4,\n        \"num_unique_values\": 5,\n        \"samples\": [\n          1,\n          4\n        ],\n        \"semantic_type\": \"\",\n        \"description\": \"\"\n      }\n    },\n    {\n      \"column\": \"Vintage_CR\",\n      \"properties\": {\n        \"dtype\": \"number\",\n        \"std\": 3,\n        \"min\": 3,\n        \"max\": 15,\n        \"num_unique_values\": 2,\n        \"samples\": [\n          3,\n          15\n        ],\n        \"semantic_type\": \"\",\n        \"description\": \"\"\n      }\n    }\n  ]\n}"
            }
          },
          "metadata": {},
          "execution_count": 27
        }
      ]
    },
    {
      "cell_type": "code",
      "source": [
        "df.info()"
      ],
      "metadata": {
        "colab": {
          "base_uri": "https://localhost:8080/"
        },
        "id": "aPWEKRljVx4v",
        "outputId": "497d0b00-5ade-4e78-e199-355e95924819"
      },
      "execution_count": null,
      "outputs": [
        {
          "output_type": "stream",
          "name": "stdout",
          "text": [
            "<class 'pandas.core.frame.DataFrame'>\n",
            "RangeIndex: 5519 entries, 0 to 5518\n",
            "Data columns (total 11 columns):\n",
            " #   Column                    Non-Null Count  Dtype  \n",
            "---  ------                    --------------  -----  \n",
            " 0   Customer ID               5519 non-null   int64  \n",
            " 1   Branch Code               5519 non-null   int64  \n",
            " 2   City                      5519 non-null   object \n",
            " 3   Age                       5519 non-null   int64  \n",
            " 4   Avg. Annual Income/Month  5519 non-null   int64  \n",
            " 5   Unpaid Tagging            5519 non-null   int64  \n",
            " 6   Mean Balance              5519 non-null   float64\n",
            " 7   Delta Balance             5519 non-null   float64\n",
            " 8   Active Months             5519 non-null   int64  \n",
            " 9   Diff PH                   5519 non-null   int64  \n",
            " 10  Vintage_CR                5519 non-null   int64  \n",
            "dtypes: float64(2), int64(8), object(1)\n",
            "memory usage: 474.4+ KB\n"
          ]
        }
      ]
    },
    {
      "cell_type": "code",
      "source": [
        "df"
      ],
      "metadata": {
        "colab": {
          "base_uri": "https://localhost:8080/",
          "height": 444
        },
        "id": "2h9cN9BxarhR",
        "outputId": "ed4c5925-e5ae-496c-8c4b-8ce885c13b9f"
      },
      "execution_count": null,
      "outputs": [
        {
          "output_type": "execute_result",
          "data": {
            "text/plain": [
              "      Customer ID  Branch Code      City  Age  Avg. Annual Income/Month  \\\n",
              "0        15565701         1001   Jakarta   29                  33000000   \n",
              "1        15566091         1009   Jakarta   25                  12000000   \n",
              "2        15566312         1009   Jakarta   43                  29000000   \n",
              "3        15566495         1005   Jakarta   27                  15000000   \n",
              "4        15566543         1003   Jakarta   68                  26000000   \n",
              "...           ...          ...       ...  ...                       ...   \n",
              "5514     15815295         1021  Surabaya   36                  38000000   \n",
              "5515     15815530         1024  Surabaya   48                  29000000   \n",
              "5516     15815615         1024  Surabaya   55                  18000000   \n",
              "5517     15815628         1024  Surabaya   48                  18000000   \n",
              "5518     15815645         1021  Surabaya   69                  20000000   \n",
              "\n",
              "      Unpaid Tagging  Mean Balance  Delta Balance  Active Months  Diff PH  \\\n",
              "0                  1  2.967590e+05   1.305740e+06              9        0   \n",
              "1                  0  3.379551e+05   1.622184e+06              6        0   \n",
              "2                  0  2.775241e+05   4.311907e+05              6        1   \n",
              "3                  0  5.306120e+07   1.365946e+07             12        0   \n",
              "4                  0  1.099276e+08   5.402212e+07             12        2   \n",
              "...              ...           ...            ...            ...      ...   \n",
              "5514               1  1.241092e+08   6.118796e+06              6        0   \n",
              "5515               0  1.374084e+05   5.203366e+05             12        1   \n",
              "5516               0  1.685507e+08   0.000000e+00              0        0   \n",
              "5517               0  0.000000e+00   0.000000e+00              0        0   \n",
              "5518               0  3.784131e+07  -1.495900e+04             12        0   \n",
              "\n",
              "      Vintage_CR  \n",
              "0             15  \n",
              "1             15  \n",
              "2             15  \n",
              "3             15  \n",
              "4             15  \n",
              "...          ...  \n",
              "5514          15  \n",
              "5515          15  \n",
              "5516          15  \n",
              "5517          15  \n",
              "5518          15  \n",
              "\n",
              "[5519 rows x 11 columns]"
            ],
            "text/html": [
              "\n",
              "  <div id=\"df-97778793-8097-4655-9b37-b3561e950cc1\" class=\"colab-df-container\">\n",
              "    <div>\n",
              "<style scoped>\n",
              "    .dataframe tbody tr th:only-of-type {\n",
              "        vertical-align: middle;\n",
              "    }\n",
              "\n",
              "    .dataframe tbody tr th {\n",
              "        vertical-align: top;\n",
              "    }\n",
              "\n",
              "    .dataframe thead th {\n",
              "        text-align: right;\n",
              "    }\n",
              "</style>\n",
              "<table border=\"1\" class=\"dataframe\">\n",
              "  <thead>\n",
              "    <tr style=\"text-align: right;\">\n",
              "      <th></th>\n",
              "      <th>Customer ID</th>\n",
              "      <th>Branch Code</th>\n",
              "      <th>City</th>\n",
              "      <th>Age</th>\n",
              "      <th>Avg. Annual Income/Month</th>\n",
              "      <th>Unpaid Tagging</th>\n",
              "      <th>Mean Balance</th>\n",
              "      <th>Delta Balance</th>\n",
              "      <th>Active Months</th>\n",
              "      <th>Diff PH</th>\n",
              "      <th>Vintage_CR</th>\n",
              "    </tr>\n",
              "  </thead>\n",
              "  <tbody>\n",
              "    <tr>\n",
              "      <th>0</th>\n",
              "      <td>15565701</td>\n",
              "      <td>1001</td>\n",
              "      <td>Jakarta</td>\n",
              "      <td>29</td>\n",
              "      <td>33000000</td>\n",
              "      <td>1</td>\n",
              "      <td>2.967590e+05</td>\n",
              "      <td>1.305740e+06</td>\n",
              "      <td>9</td>\n",
              "      <td>0</td>\n",
              "      <td>15</td>\n",
              "    </tr>\n",
              "    <tr>\n",
              "      <th>1</th>\n",
              "      <td>15566091</td>\n",
              "      <td>1009</td>\n",
              "      <td>Jakarta</td>\n",
              "      <td>25</td>\n",
              "      <td>12000000</td>\n",
              "      <td>0</td>\n",
              "      <td>3.379551e+05</td>\n",
              "      <td>1.622184e+06</td>\n",
              "      <td>6</td>\n",
              "      <td>0</td>\n",
              "      <td>15</td>\n",
              "    </tr>\n",
              "    <tr>\n",
              "      <th>2</th>\n",
              "      <td>15566312</td>\n",
              "      <td>1009</td>\n",
              "      <td>Jakarta</td>\n",
              "      <td>43</td>\n",
              "      <td>29000000</td>\n",
              "      <td>0</td>\n",
              "      <td>2.775241e+05</td>\n",
              "      <td>4.311907e+05</td>\n",
              "      <td>6</td>\n",
              "      <td>1</td>\n",
              "      <td>15</td>\n",
              "    </tr>\n",
              "    <tr>\n",
              "      <th>3</th>\n",
              "      <td>15566495</td>\n",
              "      <td>1005</td>\n",
              "      <td>Jakarta</td>\n",
              "      <td>27</td>\n",
              "      <td>15000000</td>\n",
              "      <td>0</td>\n",
              "      <td>5.306120e+07</td>\n",
              "      <td>1.365946e+07</td>\n",
              "      <td>12</td>\n",
              "      <td>0</td>\n",
              "      <td>15</td>\n",
              "    </tr>\n",
              "    <tr>\n",
              "      <th>4</th>\n",
              "      <td>15566543</td>\n",
              "      <td>1003</td>\n",
              "      <td>Jakarta</td>\n",
              "      <td>68</td>\n",
              "      <td>26000000</td>\n",
              "      <td>0</td>\n",
              "      <td>1.099276e+08</td>\n",
              "      <td>5.402212e+07</td>\n",
              "      <td>12</td>\n",
              "      <td>2</td>\n",
              "      <td>15</td>\n",
              "    </tr>\n",
              "    <tr>\n",
              "      <th>...</th>\n",
              "      <td>...</td>\n",
              "      <td>...</td>\n",
              "      <td>...</td>\n",
              "      <td>...</td>\n",
              "      <td>...</td>\n",
              "      <td>...</td>\n",
              "      <td>...</td>\n",
              "      <td>...</td>\n",
              "      <td>...</td>\n",
              "      <td>...</td>\n",
              "      <td>...</td>\n",
              "    </tr>\n",
              "    <tr>\n",
              "      <th>5514</th>\n",
              "      <td>15815295</td>\n",
              "      <td>1021</td>\n",
              "      <td>Surabaya</td>\n",
              "      <td>36</td>\n",
              "      <td>38000000</td>\n",
              "      <td>1</td>\n",
              "      <td>1.241092e+08</td>\n",
              "      <td>6.118796e+06</td>\n",
              "      <td>6</td>\n",
              "      <td>0</td>\n",
              "      <td>15</td>\n",
              "    </tr>\n",
              "    <tr>\n",
              "      <th>5515</th>\n",
              "      <td>15815530</td>\n",
              "      <td>1024</td>\n",
              "      <td>Surabaya</td>\n",
              "      <td>48</td>\n",
              "      <td>29000000</td>\n",
              "      <td>0</td>\n",
              "      <td>1.374084e+05</td>\n",
              "      <td>5.203366e+05</td>\n",
              "      <td>12</td>\n",
              "      <td>1</td>\n",
              "      <td>15</td>\n",
              "    </tr>\n",
              "    <tr>\n",
              "      <th>5516</th>\n",
              "      <td>15815615</td>\n",
              "      <td>1024</td>\n",
              "      <td>Surabaya</td>\n",
              "      <td>55</td>\n",
              "      <td>18000000</td>\n",
              "      <td>0</td>\n",
              "      <td>1.685507e+08</td>\n",
              "      <td>0.000000e+00</td>\n",
              "      <td>0</td>\n",
              "      <td>0</td>\n",
              "      <td>15</td>\n",
              "    </tr>\n",
              "    <tr>\n",
              "      <th>5517</th>\n",
              "      <td>15815628</td>\n",
              "      <td>1024</td>\n",
              "      <td>Surabaya</td>\n",
              "      <td>48</td>\n",
              "      <td>18000000</td>\n",
              "      <td>0</td>\n",
              "      <td>0.000000e+00</td>\n",
              "      <td>0.000000e+00</td>\n",
              "      <td>0</td>\n",
              "      <td>0</td>\n",
              "      <td>15</td>\n",
              "    </tr>\n",
              "    <tr>\n",
              "      <th>5518</th>\n",
              "      <td>15815645</td>\n",
              "      <td>1021</td>\n",
              "      <td>Surabaya</td>\n",
              "      <td>69</td>\n",
              "      <td>20000000</td>\n",
              "      <td>0</td>\n",
              "      <td>3.784131e+07</td>\n",
              "      <td>-1.495900e+04</td>\n",
              "      <td>12</td>\n",
              "      <td>0</td>\n",
              "      <td>15</td>\n",
              "    </tr>\n",
              "  </tbody>\n",
              "</table>\n",
              "<p>5519 rows × 11 columns</p>\n",
              "</div>\n",
              "    <div class=\"colab-df-buttons\">\n",
              "\n",
              "  <div class=\"colab-df-container\">\n",
              "    <button class=\"colab-df-convert\" onclick=\"convertToInteractive('df-97778793-8097-4655-9b37-b3561e950cc1')\"\n",
              "            title=\"Convert this dataframe to an interactive table.\"\n",
              "            style=\"display:none;\">\n",
              "\n",
              "  <svg xmlns=\"http://www.w3.org/2000/svg\" height=\"24px\" viewBox=\"0 -960 960 960\">\n",
              "    <path d=\"M120-120v-720h720v720H120Zm60-500h600v-160H180v160Zm220 220h160v-160H400v160Zm0 220h160v-160H400v160ZM180-400h160v-160H180v160Zm440 0h160v-160H620v160ZM180-180h160v-160H180v160Zm440 0h160v-160H620v160Z\"/>\n",
              "  </svg>\n",
              "    </button>\n",
              "\n",
              "  <style>\n",
              "    .colab-df-container {\n",
              "      display:flex;\n",
              "      gap: 12px;\n",
              "    }\n",
              "\n",
              "    .colab-df-convert {\n",
              "      background-color: #E8F0FE;\n",
              "      border: none;\n",
              "      border-radius: 50%;\n",
              "      cursor: pointer;\n",
              "      display: none;\n",
              "      fill: #1967D2;\n",
              "      height: 32px;\n",
              "      padding: 0 0 0 0;\n",
              "      width: 32px;\n",
              "    }\n",
              "\n",
              "    .colab-df-convert:hover {\n",
              "      background-color: #E2EBFA;\n",
              "      box-shadow: 0px 1px 2px rgba(60, 64, 67, 0.3), 0px 1px 3px 1px rgba(60, 64, 67, 0.15);\n",
              "      fill: #174EA6;\n",
              "    }\n",
              "\n",
              "    .colab-df-buttons div {\n",
              "      margin-bottom: 4px;\n",
              "    }\n",
              "\n",
              "    [theme=dark] .colab-df-convert {\n",
              "      background-color: #3B4455;\n",
              "      fill: #D2E3FC;\n",
              "    }\n",
              "\n",
              "    [theme=dark] .colab-df-convert:hover {\n",
              "      background-color: #434B5C;\n",
              "      box-shadow: 0px 1px 3px 1px rgba(0, 0, 0, 0.15);\n",
              "      filter: drop-shadow(0px 1px 2px rgba(0, 0, 0, 0.3));\n",
              "      fill: #FFFFFF;\n",
              "    }\n",
              "  </style>\n",
              "\n",
              "    <script>\n",
              "      const buttonEl =\n",
              "        document.querySelector('#df-97778793-8097-4655-9b37-b3561e950cc1 button.colab-df-convert');\n",
              "      buttonEl.style.display =\n",
              "        google.colab.kernel.accessAllowed ? 'block' : 'none';\n",
              "\n",
              "      async function convertToInteractive(key) {\n",
              "        const element = document.querySelector('#df-97778793-8097-4655-9b37-b3561e950cc1');\n",
              "        const dataTable =\n",
              "          await google.colab.kernel.invokeFunction('convertToInteractive',\n",
              "                                                    [key], {});\n",
              "        if (!dataTable) return;\n",
              "\n",
              "        const docLinkHtml = 'Like what you see? Visit the ' +\n",
              "          '<a target=\"_blank\" href=https://colab.research.google.com/notebooks/data_table.ipynb>data table notebook</a>'\n",
              "          + ' to learn more about interactive tables.';\n",
              "        element.innerHTML = '';\n",
              "        dataTable['output_type'] = 'display_data';\n",
              "        await google.colab.output.renderOutput(dataTable, element);\n",
              "        const docLink = document.createElement('div');\n",
              "        docLink.innerHTML = docLinkHtml;\n",
              "        element.appendChild(docLink);\n",
              "      }\n",
              "    </script>\n",
              "  </div>\n",
              "\n",
              "\n",
              "<div id=\"df-4a1c00d7-108c-4535-bfc6-453be8ce8e25\">\n",
              "  <button class=\"colab-df-quickchart\" onclick=\"quickchart('df-4a1c00d7-108c-4535-bfc6-453be8ce8e25')\"\n",
              "            title=\"Suggest charts\"\n",
              "            style=\"display:none;\">\n",
              "\n",
              "<svg xmlns=\"http://www.w3.org/2000/svg\" height=\"24px\"viewBox=\"0 0 24 24\"\n",
              "     width=\"24px\">\n",
              "    <g>\n",
              "        <path d=\"M19 3H5c-1.1 0-2 .9-2 2v14c0 1.1.9 2 2 2h14c1.1 0 2-.9 2-2V5c0-1.1-.9-2-2-2zM9 17H7v-7h2v7zm4 0h-2V7h2v10zm4 0h-2v-4h2v4z\"/>\n",
              "    </g>\n",
              "</svg>\n",
              "  </button>\n",
              "\n",
              "<style>\n",
              "  .colab-df-quickchart {\n",
              "      --bg-color: #E8F0FE;\n",
              "      --fill-color: #1967D2;\n",
              "      --hover-bg-color: #E2EBFA;\n",
              "      --hover-fill-color: #174EA6;\n",
              "      --disabled-fill-color: #AAA;\n",
              "      --disabled-bg-color: #DDD;\n",
              "  }\n",
              "\n",
              "  [theme=dark] .colab-df-quickchart {\n",
              "      --bg-color: #3B4455;\n",
              "      --fill-color: #D2E3FC;\n",
              "      --hover-bg-color: #434B5C;\n",
              "      --hover-fill-color: #FFFFFF;\n",
              "      --disabled-bg-color: #3B4455;\n",
              "      --disabled-fill-color: #666;\n",
              "  }\n",
              "\n",
              "  .colab-df-quickchart {\n",
              "    background-color: var(--bg-color);\n",
              "    border: none;\n",
              "    border-radius: 50%;\n",
              "    cursor: pointer;\n",
              "    display: none;\n",
              "    fill: var(--fill-color);\n",
              "    height: 32px;\n",
              "    padding: 0;\n",
              "    width: 32px;\n",
              "  }\n",
              "\n",
              "  .colab-df-quickchart:hover {\n",
              "    background-color: var(--hover-bg-color);\n",
              "    box-shadow: 0 1px 2px rgba(60, 64, 67, 0.3), 0 1px 3px 1px rgba(60, 64, 67, 0.15);\n",
              "    fill: var(--button-hover-fill-color);\n",
              "  }\n",
              "\n",
              "  .colab-df-quickchart-complete:disabled,\n",
              "  .colab-df-quickchart-complete:disabled:hover {\n",
              "    background-color: var(--disabled-bg-color);\n",
              "    fill: var(--disabled-fill-color);\n",
              "    box-shadow: none;\n",
              "  }\n",
              "\n",
              "  .colab-df-spinner {\n",
              "    border: 2px solid var(--fill-color);\n",
              "    border-color: transparent;\n",
              "    border-bottom-color: var(--fill-color);\n",
              "    animation:\n",
              "      spin 1s steps(1) infinite;\n",
              "  }\n",
              "\n",
              "  @keyframes spin {\n",
              "    0% {\n",
              "      border-color: transparent;\n",
              "      border-bottom-color: var(--fill-color);\n",
              "      border-left-color: var(--fill-color);\n",
              "    }\n",
              "    20% {\n",
              "      border-color: transparent;\n",
              "      border-left-color: var(--fill-color);\n",
              "      border-top-color: var(--fill-color);\n",
              "    }\n",
              "    30% {\n",
              "      border-color: transparent;\n",
              "      border-left-color: var(--fill-color);\n",
              "      border-top-color: var(--fill-color);\n",
              "      border-right-color: var(--fill-color);\n",
              "    }\n",
              "    40% {\n",
              "      border-color: transparent;\n",
              "      border-right-color: var(--fill-color);\n",
              "      border-top-color: var(--fill-color);\n",
              "    }\n",
              "    60% {\n",
              "      border-color: transparent;\n",
              "      border-right-color: var(--fill-color);\n",
              "    }\n",
              "    80% {\n",
              "      border-color: transparent;\n",
              "      border-right-color: var(--fill-color);\n",
              "      border-bottom-color: var(--fill-color);\n",
              "    }\n",
              "    90% {\n",
              "      border-color: transparent;\n",
              "      border-bottom-color: var(--fill-color);\n",
              "    }\n",
              "  }\n",
              "</style>\n",
              "\n",
              "  <script>\n",
              "    async function quickchart(key) {\n",
              "      const quickchartButtonEl =\n",
              "        document.querySelector('#' + key + ' button');\n",
              "      quickchartButtonEl.disabled = true;  // To prevent multiple clicks.\n",
              "      quickchartButtonEl.classList.add('colab-df-spinner');\n",
              "      try {\n",
              "        const charts = await google.colab.kernel.invokeFunction(\n",
              "            'suggestCharts', [key], {});\n",
              "      } catch (error) {\n",
              "        console.error('Error during call to suggestCharts:', error);\n",
              "      }\n",
              "      quickchartButtonEl.classList.remove('colab-df-spinner');\n",
              "      quickchartButtonEl.classList.add('colab-df-quickchart-complete');\n",
              "    }\n",
              "    (() => {\n",
              "      let quickchartButtonEl =\n",
              "        document.querySelector('#df-4a1c00d7-108c-4535-bfc6-453be8ce8e25 button');\n",
              "      quickchartButtonEl.style.display =\n",
              "        google.colab.kernel.accessAllowed ? 'block' : 'none';\n",
              "    })();\n",
              "  </script>\n",
              "</div>\n",
              "\n",
              "  <div id=\"id_bbb6ad70-80cc-4e28-9f64-873b9b3812a9\">\n",
              "    <style>\n",
              "      .colab-df-generate {\n",
              "        background-color: #E8F0FE;\n",
              "        border: none;\n",
              "        border-radius: 50%;\n",
              "        cursor: pointer;\n",
              "        display: none;\n",
              "        fill: #1967D2;\n",
              "        height: 32px;\n",
              "        padding: 0 0 0 0;\n",
              "        width: 32px;\n",
              "      }\n",
              "\n",
              "      .colab-df-generate:hover {\n",
              "        background-color: #E2EBFA;\n",
              "        box-shadow: 0px 1px 2px rgba(60, 64, 67, 0.3), 0px 1px 3px 1px rgba(60, 64, 67, 0.15);\n",
              "        fill: #174EA6;\n",
              "      }\n",
              "\n",
              "      [theme=dark] .colab-df-generate {\n",
              "        background-color: #3B4455;\n",
              "        fill: #D2E3FC;\n",
              "      }\n",
              "\n",
              "      [theme=dark] .colab-df-generate:hover {\n",
              "        background-color: #434B5C;\n",
              "        box-shadow: 0px 1px 3px 1px rgba(0, 0, 0, 0.15);\n",
              "        filter: drop-shadow(0px 1px 2px rgba(0, 0, 0, 0.3));\n",
              "        fill: #FFFFFF;\n",
              "      }\n",
              "    </style>\n",
              "    <button class=\"colab-df-generate\" onclick=\"generateWithVariable('df')\"\n",
              "            title=\"Generate code using this dataframe.\"\n",
              "            style=\"display:none;\">\n",
              "\n",
              "  <svg xmlns=\"http://www.w3.org/2000/svg\" height=\"24px\"viewBox=\"0 0 24 24\"\n",
              "       width=\"24px\">\n",
              "    <path d=\"M7,19H8.4L18.45,9,17,7.55,7,17.6ZM5,21V16.75L18.45,3.32a2,2,0,0,1,2.83,0l1.4,1.43a1.91,1.91,0,0,1,.58,1.4,1.91,1.91,0,0,1-.58,1.4L9.25,21ZM18.45,9,17,7.55Zm-12,3A5.31,5.31,0,0,0,4.9,8.1,5.31,5.31,0,0,0,1,6.5,5.31,5.31,0,0,0,4.9,4.9,5.31,5.31,0,0,0,6.5,1,5.31,5.31,0,0,0,8.1,4.9,5.31,5.31,0,0,0,12,6.5,5.46,5.46,0,0,0,6.5,12Z\"/>\n",
              "  </svg>\n",
              "    </button>\n",
              "    <script>\n",
              "      (() => {\n",
              "      const buttonEl =\n",
              "        document.querySelector('#id_bbb6ad70-80cc-4e28-9f64-873b9b3812a9 button.colab-df-generate');\n",
              "      buttonEl.style.display =\n",
              "        google.colab.kernel.accessAllowed ? 'block' : 'none';\n",
              "\n",
              "      buttonEl.onclick = () => {\n",
              "        google.colab.notebook.generateWithVariable('df');\n",
              "      }\n",
              "      })();\n",
              "    </script>\n",
              "  </div>\n",
              "\n",
              "    </div>\n",
              "  </div>\n"
            ],
            "application/vnd.google.colaboratory.intrinsic+json": {
              "type": "dataframe",
              "variable_name": "df",
              "summary": "{\n  \"name\": \"df\",\n  \"rows\": 5519,\n  \"fields\": [\n    {\n      \"column\": \"Customer ID\",\n      \"properties\": {\n        \"dtype\": \"number\",\n        \"std\": 71881,\n        \"min\": 15565701,\n        \"max\": 15815690,\n        \"num_unique_values\": 5519,\n        \"samples\": [\n          15596939,\n          15687540,\n          15795990\n        ],\n        \"semantic_type\": \"\",\n        \"description\": \"\"\n      }\n    },\n    {\n      \"column\": \"Branch Code\",\n      \"properties\": {\n        \"dtype\": \"number\",\n        \"std\": 7,\n        \"min\": 1001,\n        \"max\": 1024,\n        \"num_unique_values\": 18,\n        \"samples\": [\n          1001,\n          1009,\n          1006\n        ],\n        \"semantic_type\": \"\",\n        \"description\": \"\"\n      }\n    },\n    {\n      \"column\": \"City\",\n      \"properties\": {\n        \"dtype\": \"category\",\n        \"num_unique_values\": 3,\n        \"samples\": [\n          \"Jakarta\",\n          \"Bandung\",\n          \"Surabaya\"\n        ],\n        \"semantic_type\": \"\",\n        \"description\": \"\"\n      }\n    },\n    {\n      \"column\": \"Age\",\n      \"properties\": {\n        \"dtype\": \"number\",\n        \"std\": 14,\n        \"min\": 22,\n        \"max\": 70,\n        \"num_unique_values\": 49,\n        \"samples\": [\n          24,\n          52,\n          28\n        ],\n        \"semantic_type\": \"\",\n        \"description\": \"\"\n      }\n    },\n    {\n      \"column\": \"Avg. Annual Income/Month\",\n      \"properties\": {\n        \"dtype\": \"number\",\n        \"std\": 11812579,\n        \"min\": 0,\n        \"max\": 60000000,\n        \"num_unique_values\": 58,\n        \"samples\": [\n          33000000,\n          24000000,\n          32000000\n        ],\n        \"semantic_type\": \"\",\n        \"description\": \"\"\n      }\n    },\n    {\n      \"column\": \"Unpaid Tagging\",\n      \"properties\": {\n        \"dtype\": \"number\",\n        \"std\": 0,\n        \"min\": 0,\n        \"max\": 1,\n        \"num_unique_values\": 2,\n        \"samples\": [\n          0,\n          1\n        ],\n        \"semantic_type\": \"\",\n        \"description\": \"\"\n      }\n    },\n    {\n      \"column\": \"Mean Balance\",\n      \"properties\": {\n        \"dtype\": \"number\",\n        \"std\": 55563858.95771491,\n        \"min\": 0.0,\n        \"max\": 294383191.85,\n        \"num_unique_values\": 4677,\n        \"samples\": [\n          156735201.6,\n          131915883.1\n        ],\n        \"semantic_type\": \"\",\n        \"description\": \"\"\n      }\n    },\n    {\n      \"column\": \"Delta Balance\",\n      \"properties\": {\n        \"dtype\": \"number\",\n        \"std\": 10596409.565628137,\n        \"min\": -1358853.0,\n        \"max\": 98682339.20000002,\n        \"num_unique_values\": 4624,\n        \"samples\": [\n          -308533.0,\n          23064222.5\n        ],\n        \"semantic_type\": \"\",\n        \"description\": \"\"\n      }\n    },\n    {\n      \"column\": \"Active Months\",\n      \"properties\": {\n        \"dtype\": \"number\",\n        \"std\": 4,\n        \"min\": 0,\n        \"max\": 15,\n        \"num_unique_values\": 6,\n        \"samples\": [\n          9,\n          6\n        ],\n        \"semantic_type\": \"\",\n        \"description\": \"\"\n      }\n    },\n    {\n      \"column\": \"Diff PH\",\n      \"properties\": {\n        \"dtype\": \"number\",\n        \"std\": 0,\n        \"min\": 0,\n        \"max\": 4,\n        \"num_unique_values\": 5,\n        \"samples\": [\n          1,\n          4\n        ],\n        \"semantic_type\": \"\",\n        \"description\": \"\"\n      }\n    },\n    {\n      \"column\": \"Vintage_CR\",\n      \"properties\": {\n        \"dtype\": \"number\",\n        \"std\": 3,\n        \"min\": 3,\n        \"max\": 15,\n        \"num_unique_values\": 2,\n        \"samples\": [\n          3,\n          15\n        ],\n        \"semantic_type\": \"\",\n        \"description\": \"\"\n      }\n    }\n  ]\n}"
            }
          },
          "metadata": {},
          "execution_count": 29
        }
      ]
    },
    {
      "cell_type": "code",
      "source": [
        "df['Branch Code'] = df['Branch Code'].astype(str)"
      ],
      "metadata": {
        "id": "D-0WP1Axaw6X"
      },
      "execution_count": null,
      "outputs": []
    },
    {
      "cell_type": "code",
      "source": [
        "df.info()"
      ],
      "metadata": {
        "colab": {
          "base_uri": "https://localhost:8080/"
        },
        "id": "hMP-NQSQoJlf",
        "outputId": "b41b7a81-1f2f-45e1-e237-57beae099d58"
      },
      "execution_count": null,
      "outputs": [
        {
          "output_type": "stream",
          "name": "stdout",
          "text": [
            "<class 'pandas.core.frame.DataFrame'>\n",
            "RangeIndex: 5519 entries, 0 to 5518\n",
            "Data columns (total 11 columns):\n",
            " #   Column                    Non-Null Count  Dtype  \n",
            "---  ------                    --------------  -----  \n",
            " 0   Customer ID               5519 non-null   int64  \n",
            " 1   Branch Code               5519 non-null   object \n",
            " 2   City                      5519 non-null   object \n",
            " 3   Age                       5519 non-null   int64  \n",
            " 4   Avg. Annual Income/Month  5519 non-null   int64  \n",
            " 5   Unpaid Tagging            5519 non-null   int64  \n",
            " 6   Mean Balance              5519 non-null   float64\n",
            " 7   Delta Balance             5519 non-null   float64\n",
            " 8   Active Months             5519 non-null   int64  \n",
            " 9   Diff PH                   5519 non-null   int64  \n",
            " 10  Vintage_CR                5519 non-null   int64  \n",
            "dtypes: float64(2), int64(7), object(2)\n",
            "memory usage: 474.4+ KB\n"
          ]
        }
      ]
    },
    {
      "cell_type": "code",
      "source": [
        "df = pd.get_dummies(df)"
      ],
      "metadata": {
        "id": "l39tylEYa2KW"
      },
      "execution_count": null,
      "outputs": []
    },
    {
      "cell_type": "code",
      "source": [
        "df.info()"
      ],
      "metadata": {
        "colab": {
          "base_uri": "https://localhost:8080/"
        },
        "id": "kT754TGWa5Df",
        "outputId": "ee448ed6-e42a-4830-f182-7bcd860de256"
      },
      "execution_count": null,
      "outputs": [
        {
          "output_type": "stream",
          "name": "stdout",
          "text": [
            "<class 'pandas.core.frame.DataFrame'>\n",
            "RangeIndex: 5519 entries, 0 to 5518\n",
            "Data columns (total 30 columns):\n",
            " #   Column                    Non-Null Count  Dtype  \n",
            "---  ------                    --------------  -----  \n",
            " 0   Customer ID               5519 non-null   int64  \n",
            " 1   Age                       5519 non-null   int64  \n",
            " 2   Avg. Annual Income/Month  5519 non-null   int64  \n",
            " 3   Unpaid Tagging            5519 non-null   int64  \n",
            " 4   Mean Balance              5519 non-null   float64\n",
            " 5   Delta Balance             5519 non-null   float64\n",
            " 6   Active Months             5519 non-null   int64  \n",
            " 7   Diff PH                   5519 non-null   int64  \n",
            " 8   Vintage_CR                5519 non-null   int64  \n",
            " 9   Branch Code_1001          5519 non-null   bool   \n",
            " 10  Branch Code_1002          5519 non-null   bool   \n",
            " 11  Branch Code_1003          5519 non-null   bool   \n",
            " 12  Branch Code_1004          5519 non-null   bool   \n",
            " 13  Branch Code_1005          5519 non-null   bool   \n",
            " 14  Branch Code_1006          5519 non-null   bool   \n",
            " 15  Branch Code_1007          5519 non-null   bool   \n",
            " 16  Branch Code_1008          5519 non-null   bool   \n",
            " 17  Branch Code_1009          5519 non-null   bool   \n",
            " 18  Branch Code_1011          5519 non-null   bool   \n",
            " 19  Branch Code_1012          5519 non-null   bool   \n",
            " 20  Branch Code_1013          5519 non-null   bool   \n",
            " 21  Branch Code_1014          5519 non-null   bool   \n",
            " 22  Branch Code_1015          5519 non-null   bool   \n",
            " 23  Branch Code_1021          5519 non-null   bool   \n",
            " 24  Branch Code_1022          5519 non-null   bool   \n",
            " 25  Branch Code_1023          5519 non-null   bool   \n",
            " 26  Branch Code_1024          5519 non-null   bool   \n",
            " 27  City_Bandung              5519 non-null   bool   \n",
            " 28  City_Jakarta              5519 non-null   bool   \n",
            " 29  City_Surabaya             5519 non-null   bool   \n",
            "dtypes: bool(21), float64(2), int64(7)\n",
            "memory usage: 501.4 KB\n"
          ]
        }
      ]
    },
    {
      "cell_type": "code",
      "execution_count": null,
      "metadata": {
        "id": "qR7-lEIKb5La",
        "colab": {
          "base_uri": "https://localhost:8080/"
        },
        "outputId": "a77ae55f-9d24-4047-8215-3a1b08cdf0a5",
        "collapsed": true
      },
      "outputs": [
        {
          "output_type": "stream",
          "name": "stdout",
          "text": [
            "X_train:\n",
            "      Customer ID  Age  Avg. Annual Income/Month  Mean Balance  Delta Balance  \\\n",
            "4327     15702430   44                  56000000  1.036398e+06    1413906.500   \n",
            "1844     15640865   30                  14000000  0.000000e+00          0.000   \n",
            "5234     15786199   46                  17000000  0.000000e+00          0.000   \n",
            "957      15734850   46                  23000000  0.000000e+00          0.000   \n",
            "4055     15678720   58                  23000000  5.382215e+07    9829282.650   \n",
            "...           ...  ...                       ...           ...            ...   \n",
            "3772     15651352   23                   4000000  5.216266e+07    2391509.390   \n",
            "5191     15781989   28                  39000000  5.883339e+04     235333.580   \n",
            "5226     15785490   45                  15000000  5.292156e+04     116427.432   \n",
            "5390     15802570   39                  19000000  9.507753e+07    9865110.680   \n",
            "860      15718247   37                  23000000  7.696837e+07     463091.000   \n",
            "\n",
            "      Active Months  Diff PH  Vintage_CR  Branch Code_1001  Branch Code_1002  \\\n",
            "4327              9        0          15             False             False   \n",
            "1844              3        1          15             False             False   \n",
            "5234              0        0          15             False             False   \n",
            "957               3        0          15             False             False   \n",
            "4055              9        0          15             False             False   \n",
            "...             ...      ...         ...               ...               ...   \n",
            "3772              9        1          15             False             False   \n",
            "5191              6        0          15             False             False   \n",
            "5226              6        0          15             False             False   \n",
            "5390              9        1          15             False             False   \n",
            "860               9        0          15             False             False   \n",
            "\n",
            "      ...  Branch Code_1013  Branch Code_1014  Branch Code_1015  \\\n",
            "4327  ...             False             False             False   \n",
            "1844  ...             False             False             False   \n",
            "5234  ...             False             False             False   \n",
            "957   ...             False             False             False   \n",
            "4055  ...             False             False             False   \n",
            "...   ...               ...               ...               ...   \n",
            "3772  ...             False             False             False   \n",
            "5191  ...             False             False             False   \n",
            "5226  ...             False             False             False   \n",
            "5390  ...             False             False             False   \n",
            "860   ...             False             False             False   \n",
            "\n",
            "      Branch Code_1021  Branch Code_1022  Branch Code_1023  Branch Code_1024  \\\n",
            "4327              True             False             False             False   \n",
            "1844             False             False             False             False   \n",
            "5234             False              True             False             False   \n",
            "957              False             False             False             False   \n",
            "4055             False             False             False              True   \n",
            "...                ...               ...               ...               ...   \n",
            "3772             False              True             False             False   \n",
            "5191              True             False             False             False   \n",
            "5226             False             False             False              True   \n",
            "5390             False             False             False              True   \n",
            "860              False             False             False             False   \n",
            "\n",
            "      City_Bandung  City_Jakarta  City_Surabaya  \n",
            "4327         False         False           True  \n",
            "1844          True         False          False  \n",
            "5234         False         False           True  \n",
            "957          False          True          False  \n",
            "4055         False         False           True  \n",
            "...            ...           ...            ...  \n",
            "3772         False         False           True  \n",
            "5191         False         False           True  \n",
            "5226         False         False           True  \n",
            "5390         False         False           True  \n",
            "860          False          True          False  \n",
            "\n",
            "[4415 rows x 29 columns]\n",
            "\n",
            "y_train:\n",
            "4327    0\n",
            "1844    0\n",
            "5234    0\n",
            "957     1\n",
            "4055    0\n",
            "       ..\n",
            "3772    0\n",
            "5191    0\n",
            "5226    0\n",
            "5390    0\n",
            "860     1\n",
            "Name: Unpaid Tagging, Length: 4415, dtype: int64\n",
            "\n",
            "X_test:\n",
            "      Customer ID  Age  Avg. Annual Income/Month  Mean Balance  Delta Balance  \\\n",
            "1615     15596939   33                  34000000  6.700838e+05   1.340168e+06   \n",
            "4147     15687540   29                  33000000  4.248825e+07  -5.652000e+05   \n",
            "2683     15795990   59                  17000000  3.103371e+05   4.226496e+03   \n",
            "5369     15800746   57                  20000000  1.117987e+08   1.675181e+07   \n",
            "1871     15645847   42                  32000000  9.393042e+07   4.579838e+06   \n",
            "...           ...  ...                       ...           ...            ...   \n",
            "2042     15676513   54                  16000000  7.894071e+07   4.453981e+06   \n",
            "4359     15705383   57                  20000000  1.196443e+08  -7.195640e+05   \n",
            "2940     15579714   33                  16000000  6.326570e+05   1.362717e+06   \n",
            "1001     15744919   53                  18000000  2.016300e+05   3.118504e+05   \n",
            "4335     15703019   30                  22000000  7.926616e+07   3.972962e+07   \n",
            "\n",
            "      Active Months  Diff PH  Vintage_CR  Branch Code_1001  Branch Code_1002  \\\n",
            "1615              3        0          15             False             False   \n",
            "4147              6        1           3             False             False   \n",
            "2683             12        0          15             False             False   \n",
            "5369             15        0          15             False             False   \n",
            "1871             12        0          15             False             False   \n",
            "...             ...      ...         ...               ...               ...   \n",
            "2042             12        0          15             False             False   \n",
            "4359              9        0          15             False             False   \n",
            "2940              9        0          15             False             False   \n",
            "1001             12        0           3             False             False   \n",
            "4335             15        0          15             False             False   \n",
            "\n",
            "      ...  Branch Code_1013  Branch Code_1014  Branch Code_1015  \\\n",
            "1615  ...              True             False             False   \n",
            "4147  ...             False             False             False   \n",
            "2683  ...             False             False             False   \n",
            "5369  ...             False             False             False   \n",
            "1871  ...             False             False              True   \n",
            "...   ...               ...               ...               ...   \n",
            "2042  ...              True             False             False   \n",
            "4359  ...             False             False             False   \n",
            "2940  ...             False             False             False   \n",
            "1001  ...             False             False             False   \n",
            "4335  ...             False             False             False   \n",
            "\n",
            "      Branch Code_1021  Branch Code_1022  Branch Code_1023  Branch Code_1024  \\\n",
            "1615             False             False             False             False   \n",
            "4147             False             False              True             False   \n",
            "2683             False             False             False             False   \n",
            "5369             False             False             False              True   \n",
            "1871             False             False             False             False   \n",
            "...                ...               ...               ...               ...   \n",
            "2042             False             False             False             False   \n",
            "4359             False             False              True             False   \n",
            "2940             False              True             False             False   \n",
            "1001             False             False             False             False   \n",
            "4335             False              True             False             False   \n",
            "\n",
            "      City_Bandung  City_Jakarta  City_Surabaya  \n",
            "1615          True         False          False  \n",
            "4147         False         False           True  \n",
            "2683          True         False          False  \n",
            "5369         False         False           True  \n",
            "1871          True         False          False  \n",
            "...            ...           ...            ...  \n",
            "2042          True         False          False  \n",
            "4359         False         False           True  \n",
            "2940         False         False           True  \n",
            "1001         False          True          False  \n",
            "4335         False         False           True  \n",
            "\n",
            "[1104 rows x 29 columns]\n",
            "\n",
            "y_test:\n",
            "1615    0\n",
            "4147    1\n",
            "2683    0\n",
            "5369    0\n",
            "1871    0\n",
            "       ..\n",
            "2042    0\n",
            "4359    0\n",
            "2940    0\n",
            "1001    1\n",
            "4335    0\n",
            "Name: Unpaid Tagging, Length: 1104, dtype: int64\n"
          ]
        }
      ],
      "source": [
        "from imblearn.over_sampling import SMOTE\n",
        "from sklearn.model_selection import train_test_split\n",
        "from sklearn.ensemble import RandomForestClassifier\n",
        "from sklearn.metrics import classification_report\n",
        "\n",
        "X = df.drop(['Unpaid Tagging'], axis=1)\n",
        "y = df['Unpaid Tagging']\n",
        "\n",
        "X_train, X_test, y_train, y_test = train_test_split(X, y, test_size=0.2, random_state=42)\n",
        "smote = SMOTE(random_state=42)\n",
        "X_train_smote, y_train_smote = smote.fit_resample(X_train, y_train)\n",
        "print(\"X_train:\")\n",
        "print(X_train)\n",
        "print(\"\\ny_train:\")\n",
        "print(y_train)\n",
        "print(\"\\nX_test:\")\n",
        "print(X_test)\n",
        "print(\"\\ny_test:\")\n",
        "print(y_test)"
      ]
    },
    {
      "cell_type": "code",
      "source": [
        "from sklearn.preprocessing import StandardScaler\n",
        "from sklearn.neighbors import KNeighborsClassifier\n",
        "\n",
        "scaler = StandardScaler()\n",
        "scaler.fit(X_train)\n",
        "\n",
        "X_train = scaler.transform(X_train)\n",
        "X_test = scaler.transform(X_test)\n",
        "\n",
        "knn = KNeighborsClassifier(n_neighbors=4)\n",
        "knn.fit(X_train, y_train)"
      ],
      "metadata": {
        "colab": {
          "base_uri": "https://localhost:8080/",
          "height": 94
        },
        "id": "To2KEEMUnX71",
        "outputId": "ad0e3fd0-e438-4ec7-e265-d8ed44ee76aa"
      },
      "execution_count": null,
      "outputs": [
        {
          "output_type": "execute_result",
          "data": {
            "text/plain": [
              "KNeighborsClassifier(n_neighbors=4)"
            ],
            "text/html": [
              "<style>#sk-container-id-1 {color: black;background-color: white;}#sk-container-id-1 pre{padding: 0;}#sk-container-id-1 div.sk-toggleable {background-color: white;}#sk-container-id-1 label.sk-toggleable__label {cursor: pointer;display: block;width: 100%;margin-bottom: 0;padding: 0.3em;box-sizing: border-box;text-align: center;}#sk-container-id-1 label.sk-toggleable__label-arrow:before {content: \"▸\";float: left;margin-right: 0.25em;color: #696969;}#sk-container-id-1 label.sk-toggleable__label-arrow:hover:before {color: black;}#sk-container-id-1 div.sk-estimator:hover label.sk-toggleable__label-arrow:before {color: black;}#sk-container-id-1 div.sk-toggleable__content {max-height: 0;max-width: 0;overflow: hidden;text-align: left;background-color: #f0f8ff;}#sk-container-id-1 div.sk-toggleable__content pre {margin: 0.2em;color: black;border-radius: 0.25em;background-color: #f0f8ff;}#sk-container-id-1 input.sk-toggleable__control:checked~div.sk-toggleable__content {max-height: 200px;max-width: 100%;overflow: auto;}#sk-container-id-1 input.sk-toggleable__control:checked~label.sk-toggleable__label-arrow:before {content: \"▾\";}#sk-container-id-1 div.sk-estimator input.sk-toggleable__control:checked~label.sk-toggleable__label {background-color: #d4ebff;}#sk-container-id-1 div.sk-label input.sk-toggleable__control:checked~label.sk-toggleable__label {background-color: #d4ebff;}#sk-container-id-1 input.sk-hidden--visually {border: 0;clip: rect(1px 1px 1px 1px);clip: rect(1px, 1px, 1px, 1px);height: 1px;margin: -1px;overflow: hidden;padding: 0;position: absolute;width: 1px;}#sk-container-id-1 div.sk-estimator {font-family: monospace;background-color: #f0f8ff;border: 1px dotted black;border-radius: 0.25em;box-sizing: border-box;margin-bottom: 0.5em;}#sk-container-id-1 div.sk-estimator:hover {background-color: #d4ebff;}#sk-container-id-1 div.sk-parallel-item::after {content: \"\";width: 100%;border-bottom: 1px solid gray;flex-grow: 1;}#sk-container-id-1 div.sk-label:hover label.sk-toggleable__label {background-color: #d4ebff;}#sk-container-id-1 div.sk-serial::before {content: \"\";position: absolute;border-left: 1px solid gray;box-sizing: border-box;top: 0;bottom: 0;left: 50%;z-index: 0;}#sk-container-id-1 div.sk-serial {display: flex;flex-direction: column;align-items: center;background-color: white;padding-right: 0.2em;padding-left: 0.2em;position: relative;}#sk-container-id-1 div.sk-item {position: relative;z-index: 1;}#sk-container-id-1 div.sk-parallel {display: flex;align-items: stretch;justify-content: center;background-color: white;position: relative;}#sk-container-id-1 div.sk-item::before, #sk-container-id-1 div.sk-parallel-item::before {content: \"\";position: absolute;border-left: 1px solid gray;box-sizing: border-box;top: 0;bottom: 0;left: 50%;z-index: -1;}#sk-container-id-1 div.sk-parallel-item {display: flex;flex-direction: column;z-index: 1;position: relative;background-color: white;}#sk-container-id-1 div.sk-parallel-item:first-child::after {align-self: flex-end;width: 50%;}#sk-container-id-1 div.sk-parallel-item:last-child::after {align-self: flex-start;width: 50%;}#sk-container-id-1 div.sk-parallel-item:only-child::after {width: 0;}#sk-container-id-1 div.sk-dashed-wrapped {border: 1px dashed gray;margin: 0 0.4em 0.5em 0.4em;box-sizing: border-box;padding-bottom: 0.4em;background-color: white;}#sk-container-id-1 div.sk-label label {font-family: monospace;font-weight: bold;display: inline-block;line-height: 1.2em;}#sk-container-id-1 div.sk-label-container {text-align: center;}#sk-container-id-1 div.sk-container {/* jupyter's `normalize.less` sets `[hidden] { display: none; }` but bootstrap.min.css set `[hidden] { display: none !important; }` so we also need the `!important` here to be able to override the default hidden behavior on the sphinx rendered scikit-learn.org. See: https://github.com/scikit-learn/scikit-learn/issues/21755 */display: inline-block !important;position: relative;}#sk-container-id-1 div.sk-text-repr-fallback {display: none;}</style><div id=\"sk-container-id-1\" class=\"sk-top-container\"><div class=\"sk-text-repr-fallback\"><pre>KNeighborsClassifier(n_neighbors=4)</pre><b>In a Jupyter environment, please rerun this cell to show the HTML representation or trust the notebook. <br />On GitHub, the HTML representation is unable to render, please try loading this page with nbviewer.org.</b></div><div class=\"sk-container\" hidden><div class=\"sk-item\"><div class=\"sk-estimator sk-toggleable\"><input class=\"sk-toggleable__control sk-hidden--visually\" id=\"sk-estimator-id-1\" type=\"checkbox\" checked><label for=\"sk-estimator-id-1\" class=\"sk-toggleable__label sk-toggleable__label-arrow\">KNeighborsClassifier</label><div class=\"sk-toggleable__content\"><pre>KNeighborsClassifier(n_neighbors=4)</pre></div></div></div></div></div>"
            ]
          },
          "metadata": {},
          "execution_count": 35
        }
      ]
    },
    {
      "cell_type": "code",
      "source": [
        "from sklearn import datasets\n",
        "from sklearn import metrics\n",
        "from sklearn.model_selection import train_test_split\n",
        "import matplotlib.pyplot as plt\n",
        "import seaborn as sns\n",
        "import xgboost as xgb\n",
        "\n",
        "model = xgb.XGBClassifier()\n",
        "model.fit(X_train, y_train)"
      ],
      "metadata": {
        "colab": {
          "base_uri": "https://localhost:8080/",
          "height": 268
        },
        "id": "6D1aNtq0nZn_",
        "outputId": "5a0d09a1-bff8-4b37-c996-4c7c86e96037"
      },
      "execution_count": null,
      "outputs": [
        {
          "output_type": "execute_result",
          "data": {
            "text/plain": [
              "XGBClassifier(base_score=None, booster=None, callbacks=None,\n",
              "              colsample_bylevel=None, colsample_bynode=None,\n",
              "              colsample_bytree=None, device=None, early_stopping_rounds=None,\n",
              "              enable_categorical=False, eval_metric=None, feature_types=None,\n",
              "              gamma=None, grow_policy=None, importance_type=None,\n",
              "              interaction_constraints=None, learning_rate=None, max_bin=None,\n",
              "              max_cat_threshold=None, max_cat_to_onehot=None,\n",
              "              max_delta_step=None, max_depth=None, max_leaves=None,\n",
              "              min_child_weight=None, missing=nan, monotone_constraints=None,\n",
              "              multi_strategy=None, n_estimators=None, n_jobs=None,\n",
              "              num_parallel_tree=None, random_state=None, ...)"
            ],
            "text/html": [
              "<style>#sk-container-id-2 {color: black;background-color: white;}#sk-container-id-2 pre{padding: 0;}#sk-container-id-2 div.sk-toggleable {background-color: white;}#sk-container-id-2 label.sk-toggleable__label {cursor: pointer;display: block;width: 100%;margin-bottom: 0;padding: 0.3em;box-sizing: border-box;text-align: center;}#sk-container-id-2 label.sk-toggleable__label-arrow:before {content: \"▸\";float: left;margin-right: 0.25em;color: #696969;}#sk-container-id-2 label.sk-toggleable__label-arrow:hover:before {color: black;}#sk-container-id-2 div.sk-estimator:hover label.sk-toggleable__label-arrow:before {color: black;}#sk-container-id-2 div.sk-toggleable__content {max-height: 0;max-width: 0;overflow: hidden;text-align: left;background-color: #f0f8ff;}#sk-container-id-2 div.sk-toggleable__content pre {margin: 0.2em;color: black;border-radius: 0.25em;background-color: #f0f8ff;}#sk-container-id-2 input.sk-toggleable__control:checked~div.sk-toggleable__content {max-height: 200px;max-width: 100%;overflow: auto;}#sk-container-id-2 input.sk-toggleable__control:checked~label.sk-toggleable__label-arrow:before {content: \"▾\";}#sk-container-id-2 div.sk-estimator input.sk-toggleable__control:checked~label.sk-toggleable__label {background-color: #d4ebff;}#sk-container-id-2 div.sk-label input.sk-toggleable__control:checked~label.sk-toggleable__label {background-color: #d4ebff;}#sk-container-id-2 input.sk-hidden--visually {border: 0;clip: rect(1px 1px 1px 1px);clip: rect(1px, 1px, 1px, 1px);height: 1px;margin: -1px;overflow: hidden;padding: 0;position: absolute;width: 1px;}#sk-container-id-2 div.sk-estimator {font-family: monospace;background-color: #f0f8ff;border: 1px dotted black;border-radius: 0.25em;box-sizing: border-box;margin-bottom: 0.5em;}#sk-container-id-2 div.sk-estimator:hover {background-color: #d4ebff;}#sk-container-id-2 div.sk-parallel-item::after {content: \"\";width: 100%;border-bottom: 1px solid gray;flex-grow: 1;}#sk-container-id-2 div.sk-label:hover label.sk-toggleable__label {background-color: #d4ebff;}#sk-container-id-2 div.sk-serial::before {content: \"\";position: absolute;border-left: 1px solid gray;box-sizing: border-box;top: 0;bottom: 0;left: 50%;z-index: 0;}#sk-container-id-2 div.sk-serial {display: flex;flex-direction: column;align-items: center;background-color: white;padding-right: 0.2em;padding-left: 0.2em;position: relative;}#sk-container-id-2 div.sk-item {position: relative;z-index: 1;}#sk-container-id-2 div.sk-parallel {display: flex;align-items: stretch;justify-content: center;background-color: white;position: relative;}#sk-container-id-2 div.sk-item::before, #sk-container-id-2 div.sk-parallel-item::before {content: \"\";position: absolute;border-left: 1px solid gray;box-sizing: border-box;top: 0;bottom: 0;left: 50%;z-index: -1;}#sk-container-id-2 div.sk-parallel-item {display: flex;flex-direction: column;z-index: 1;position: relative;background-color: white;}#sk-container-id-2 div.sk-parallel-item:first-child::after {align-self: flex-end;width: 50%;}#sk-container-id-2 div.sk-parallel-item:last-child::after {align-self: flex-start;width: 50%;}#sk-container-id-2 div.sk-parallel-item:only-child::after {width: 0;}#sk-container-id-2 div.sk-dashed-wrapped {border: 1px dashed gray;margin: 0 0.4em 0.5em 0.4em;box-sizing: border-box;padding-bottom: 0.4em;background-color: white;}#sk-container-id-2 div.sk-label label {font-family: monospace;font-weight: bold;display: inline-block;line-height: 1.2em;}#sk-container-id-2 div.sk-label-container {text-align: center;}#sk-container-id-2 div.sk-container {/* jupyter's `normalize.less` sets `[hidden] { display: none; }` but bootstrap.min.css set `[hidden] { display: none !important; }` so we also need the `!important` here to be able to override the default hidden behavior on the sphinx rendered scikit-learn.org. See: https://github.com/scikit-learn/scikit-learn/issues/21755 */display: inline-block !important;position: relative;}#sk-container-id-2 div.sk-text-repr-fallback {display: none;}</style><div id=\"sk-container-id-2\" class=\"sk-top-container\"><div class=\"sk-text-repr-fallback\"><pre>XGBClassifier(base_score=None, booster=None, callbacks=None,\n",
              "              colsample_bylevel=None, colsample_bynode=None,\n",
              "              colsample_bytree=None, device=None, early_stopping_rounds=None,\n",
              "              enable_categorical=False, eval_metric=None, feature_types=None,\n",
              "              gamma=None, grow_policy=None, importance_type=None,\n",
              "              interaction_constraints=None, learning_rate=None, max_bin=None,\n",
              "              max_cat_threshold=None, max_cat_to_onehot=None,\n",
              "              max_delta_step=None, max_depth=None, max_leaves=None,\n",
              "              min_child_weight=None, missing=nan, monotone_constraints=None,\n",
              "              multi_strategy=None, n_estimators=None, n_jobs=None,\n",
              "              num_parallel_tree=None, random_state=None, ...)</pre><b>In a Jupyter environment, please rerun this cell to show the HTML representation or trust the notebook. <br />On GitHub, the HTML representation is unable to render, please try loading this page with nbviewer.org.</b></div><div class=\"sk-container\" hidden><div class=\"sk-item\"><div class=\"sk-estimator sk-toggleable\"><input class=\"sk-toggleable__control sk-hidden--visually\" id=\"sk-estimator-id-2\" type=\"checkbox\" checked><label for=\"sk-estimator-id-2\" class=\"sk-toggleable__label sk-toggleable__label-arrow\">XGBClassifier</label><div class=\"sk-toggleable__content\"><pre>XGBClassifier(base_score=None, booster=None, callbacks=None,\n",
              "              colsample_bylevel=None, colsample_bynode=None,\n",
              "              colsample_bytree=None, device=None, early_stopping_rounds=None,\n",
              "              enable_categorical=False, eval_metric=None, feature_types=None,\n",
              "              gamma=None, grow_policy=None, importance_type=None,\n",
              "              interaction_constraints=None, learning_rate=None, max_bin=None,\n",
              "              max_cat_threshold=None, max_cat_to_onehot=None,\n",
              "              max_delta_step=None, max_depth=None, max_leaves=None,\n",
              "              min_child_weight=None, missing=nan, monotone_constraints=None,\n",
              "              multi_strategy=None, n_estimators=None, n_jobs=None,\n",
              "              num_parallel_tree=None, random_state=None, ...)</pre></div></div></div></div></div>"
            ]
          },
          "metadata": {},
          "execution_count": 36
        }
      ]
    },
    {
      "cell_type": "code",
      "source": [
        "from sklearn import datasets\n",
        "from sklearn.model_selection import train_test_split\n",
        "from sklearn.preprocessing import StandardScaler\n",
        "from sklearn.svm import SVC\n",
        "from sklearn.metrics import accuracy_score, classification_report\n",
        "\n",
        "svc_model = SVC(kernel='linear', C=1.0, random_state=42)\n",
        "\n",
        "svc_model.fit(X_train, y_train)"
      ],
      "metadata": {
        "colab": {
          "base_uri": "https://localhost:8080/",
          "height": 94
        },
        "id": "ABHaeu4UnbQG",
        "outputId": "63eab253-91f6-4340-c027-d0a1bd8f72e4"
      },
      "execution_count": null,
      "outputs": [
        {
          "output_type": "execute_result",
          "data": {
            "text/plain": [
              "SVC(kernel='linear', random_state=42)"
            ],
            "text/html": [
              "<style>#sk-container-id-3 {color: black;background-color: white;}#sk-container-id-3 pre{padding: 0;}#sk-container-id-3 div.sk-toggleable {background-color: white;}#sk-container-id-3 label.sk-toggleable__label {cursor: pointer;display: block;width: 100%;margin-bottom: 0;padding: 0.3em;box-sizing: border-box;text-align: center;}#sk-container-id-3 label.sk-toggleable__label-arrow:before {content: \"▸\";float: left;margin-right: 0.25em;color: #696969;}#sk-container-id-3 label.sk-toggleable__label-arrow:hover:before {color: black;}#sk-container-id-3 div.sk-estimator:hover label.sk-toggleable__label-arrow:before {color: black;}#sk-container-id-3 div.sk-toggleable__content {max-height: 0;max-width: 0;overflow: hidden;text-align: left;background-color: #f0f8ff;}#sk-container-id-3 div.sk-toggleable__content pre {margin: 0.2em;color: black;border-radius: 0.25em;background-color: #f0f8ff;}#sk-container-id-3 input.sk-toggleable__control:checked~div.sk-toggleable__content {max-height: 200px;max-width: 100%;overflow: auto;}#sk-container-id-3 input.sk-toggleable__control:checked~label.sk-toggleable__label-arrow:before {content: \"▾\";}#sk-container-id-3 div.sk-estimator input.sk-toggleable__control:checked~label.sk-toggleable__label {background-color: #d4ebff;}#sk-container-id-3 div.sk-label input.sk-toggleable__control:checked~label.sk-toggleable__label {background-color: #d4ebff;}#sk-container-id-3 input.sk-hidden--visually {border: 0;clip: rect(1px 1px 1px 1px);clip: rect(1px, 1px, 1px, 1px);height: 1px;margin: -1px;overflow: hidden;padding: 0;position: absolute;width: 1px;}#sk-container-id-3 div.sk-estimator {font-family: monospace;background-color: #f0f8ff;border: 1px dotted black;border-radius: 0.25em;box-sizing: border-box;margin-bottom: 0.5em;}#sk-container-id-3 div.sk-estimator:hover {background-color: #d4ebff;}#sk-container-id-3 div.sk-parallel-item::after {content: \"\";width: 100%;border-bottom: 1px solid gray;flex-grow: 1;}#sk-container-id-3 div.sk-label:hover label.sk-toggleable__label {background-color: #d4ebff;}#sk-container-id-3 div.sk-serial::before {content: \"\";position: absolute;border-left: 1px solid gray;box-sizing: border-box;top: 0;bottom: 0;left: 50%;z-index: 0;}#sk-container-id-3 div.sk-serial {display: flex;flex-direction: column;align-items: center;background-color: white;padding-right: 0.2em;padding-left: 0.2em;position: relative;}#sk-container-id-3 div.sk-item {position: relative;z-index: 1;}#sk-container-id-3 div.sk-parallel {display: flex;align-items: stretch;justify-content: center;background-color: white;position: relative;}#sk-container-id-3 div.sk-item::before, #sk-container-id-3 div.sk-parallel-item::before {content: \"\";position: absolute;border-left: 1px solid gray;box-sizing: border-box;top: 0;bottom: 0;left: 50%;z-index: -1;}#sk-container-id-3 div.sk-parallel-item {display: flex;flex-direction: column;z-index: 1;position: relative;background-color: white;}#sk-container-id-3 div.sk-parallel-item:first-child::after {align-self: flex-end;width: 50%;}#sk-container-id-3 div.sk-parallel-item:last-child::after {align-self: flex-start;width: 50%;}#sk-container-id-3 div.sk-parallel-item:only-child::after {width: 0;}#sk-container-id-3 div.sk-dashed-wrapped {border: 1px dashed gray;margin: 0 0.4em 0.5em 0.4em;box-sizing: border-box;padding-bottom: 0.4em;background-color: white;}#sk-container-id-3 div.sk-label label {font-family: monospace;font-weight: bold;display: inline-block;line-height: 1.2em;}#sk-container-id-3 div.sk-label-container {text-align: center;}#sk-container-id-3 div.sk-container {/* jupyter's `normalize.less` sets `[hidden] { display: none; }` but bootstrap.min.css set `[hidden] { display: none !important; }` so we also need the `!important` here to be able to override the default hidden behavior on the sphinx rendered scikit-learn.org. See: https://github.com/scikit-learn/scikit-learn/issues/21755 */display: inline-block !important;position: relative;}#sk-container-id-3 div.sk-text-repr-fallback {display: none;}</style><div id=\"sk-container-id-3\" class=\"sk-top-container\"><div class=\"sk-text-repr-fallback\"><pre>SVC(kernel=&#x27;linear&#x27;, random_state=42)</pre><b>In a Jupyter environment, please rerun this cell to show the HTML representation or trust the notebook. <br />On GitHub, the HTML representation is unable to render, please try loading this page with nbviewer.org.</b></div><div class=\"sk-container\" hidden><div class=\"sk-item\"><div class=\"sk-estimator sk-toggleable\"><input class=\"sk-toggleable__control sk-hidden--visually\" id=\"sk-estimator-id-3\" type=\"checkbox\" checked><label for=\"sk-estimator-id-3\" class=\"sk-toggleable__label sk-toggleable__label-arrow\">SVC</label><div class=\"sk-toggleable__content\"><pre>SVC(kernel=&#x27;linear&#x27;, random_state=42)</pre></div></div></div></div></div>"
            ]
          },
          "metadata": {},
          "execution_count": 37
        }
      ]
    },
    {
      "cell_type": "code",
      "source": [
        "from sklearn import tree\n",
        "\n",
        "dtree = tree.DecisionTreeClassifier()\n",
        "dtree = dtree.fit(X_train, y_train)\n"
      ],
      "metadata": {
        "id": "BsKlYcBZlaJi"
      },
      "execution_count": null,
      "outputs": []
    },
    {
      "cell_type": "code",
      "source": [
        "from sklearn.ensemble import RandomForestClassifier\n",
        "\n",
        "rf = RandomForestClassifier(random_state=42, n_jobs=-1, max_depth=5,\n",
        "                                       n_estimators=100, oob_score=True)\n",
        "\n",
        "rf.fit(X_train, y_train)"
      ],
      "metadata": {
        "colab": {
          "base_uri": "https://localhost:8080/",
          "height": 94
        },
        "id": "ytNXx2yXndsu",
        "outputId": "4b7f70bf-550d-43db-b340-dc4c209cccb1"
      },
      "execution_count": null,
      "outputs": [
        {
          "output_type": "execute_result",
          "data": {
            "text/plain": [
              "RandomForestClassifier(max_depth=5, n_jobs=-1, oob_score=True, random_state=42)"
            ],
            "text/html": [
              "<style>#sk-container-id-4 {color: black;background-color: white;}#sk-container-id-4 pre{padding: 0;}#sk-container-id-4 div.sk-toggleable {background-color: white;}#sk-container-id-4 label.sk-toggleable__label {cursor: pointer;display: block;width: 100%;margin-bottom: 0;padding: 0.3em;box-sizing: border-box;text-align: center;}#sk-container-id-4 label.sk-toggleable__label-arrow:before {content: \"▸\";float: left;margin-right: 0.25em;color: #696969;}#sk-container-id-4 label.sk-toggleable__label-arrow:hover:before {color: black;}#sk-container-id-4 div.sk-estimator:hover label.sk-toggleable__label-arrow:before {color: black;}#sk-container-id-4 div.sk-toggleable__content {max-height: 0;max-width: 0;overflow: hidden;text-align: left;background-color: #f0f8ff;}#sk-container-id-4 div.sk-toggleable__content pre {margin: 0.2em;color: black;border-radius: 0.25em;background-color: #f0f8ff;}#sk-container-id-4 input.sk-toggleable__control:checked~div.sk-toggleable__content {max-height: 200px;max-width: 100%;overflow: auto;}#sk-container-id-4 input.sk-toggleable__control:checked~label.sk-toggleable__label-arrow:before {content: \"▾\";}#sk-container-id-4 div.sk-estimator input.sk-toggleable__control:checked~label.sk-toggleable__label {background-color: #d4ebff;}#sk-container-id-4 div.sk-label input.sk-toggleable__control:checked~label.sk-toggleable__label {background-color: #d4ebff;}#sk-container-id-4 input.sk-hidden--visually {border: 0;clip: rect(1px 1px 1px 1px);clip: rect(1px, 1px, 1px, 1px);height: 1px;margin: -1px;overflow: hidden;padding: 0;position: absolute;width: 1px;}#sk-container-id-4 div.sk-estimator {font-family: monospace;background-color: #f0f8ff;border: 1px dotted black;border-radius: 0.25em;box-sizing: border-box;margin-bottom: 0.5em;}#sk-container-id-4 div.sk-estimator:hover {background-color: #d4ebff;}#sk-container-id-4 div.sk-parallel-item::after {content: \"\";width: 100%;border-bottom: 1px solid gray;flex-grow: 1;}#sk-container-id-4 div.sk-label:hover label.sk-toggleable__label {background-color: #d4ebff;}#sk-container-id-4 div.sk-serial::before {content: \"\";position: absolute;border-left: 1px solid gray;box-sizing: border-box;top: 0;bottom: 0;left: 50%;z-index: 0;}#sk-container-id-4 div.sk-serial {display: flex;flex-direction: column;align-items: center;background-color: white;padding-right: 0.2em;padding-left: 0.2em;position: relative;}#sk-container-id-4 div.sk-item {position: relative;z-index: 1;}#sk-container-id-4 div.sk-parallel {display: flex;align-items: stretch;justify-content: center;background-color: white;position: relative;}#sk-container-id-4 div.sk-item::before, #sk-container-id-4 div.sk-parallel-item::before {content: \"\";position: absolute;border-left: 1px solid gray;box-sizing: border-box;top: 0;bottom: 0;left: 50%;z-index: -1;}#sk-container-id-4 div.sk-parallel-item {display: flex;flex-direction: column;z-index: 1;position: relative;background-color: white;}#sk-container-id-4 div.sk-parallel-item:first-child::after {align-self: flex-end;width: 50%;}#sk-container-id-4 div.sk-parallel-item:last-child::after {align-self: flex-start;width: 50%;}#sk-container-id-4 div.sk-parallel-item:only-child::after {width: 0;}#sk-container-id-4 div.sk-dashed-wrapped {border: 1px dashed gray;margin: 0 0.4em 0.5em 0.4em;box-sizing: border-box;padding-bottom: 0.4em;background-color: white;}#sk-container-id-4 div.sk-label label {font-family: monospace;font-weight: bold;display: inline-block;line-height: 1.2em;}#sk-container-id-4 div.sk-label-container {text-align: center;}#sk-container-id-4 div.sk-container {/* jupyter's `normalize.less` sets `[hidden] { display: none; }` but bootstrap.min.css set `[hidden] { display: none !important; }` so we also need the `!important` here to be able to override the default hidden behavior on the sphinx rendered scikit-learn.org. See: https://github.com/scikit-learn/scikit-learn/issues/21755 */display: inline-block !important;position: relative;}#sk-container-id-4 div.sk-text-repr-fallback {display: none;}</style><div id=\"sk-container-id-4\" class=\"sk-top-container\"><div class=\"sk-text-repr-fallback\"><pre>RandomForestClassifier(max_depth=5, n_jobs=-1, oob_score=True, random_state=42)</pre><b>In a Jupyter environment, please rerun this cell to show the HTML representation or trust the notebook. <br />On GitHub, the HTML representation is unable to render, please try loading this page with nbviewer.org.</b></div><div class=\"sk-container\" hidden><div class=\"sk-item\"><div class=\"sk-estimator sk-toggleable\"><input class=\"sk-toggleable__control sk-hidden--visually\" id=\"sk-estimator-id-4\" type=\"checkbox\" checked><label for=\"sk-estimator-id-4\" class=\"sk-toggleable__label sk-toggleable__label-arrow\">RandomForestClassifier</label><div class=\"sk-toggleable__content\"><pre>RandomForestClassifier(max_depth=5, n_jobs=-1, oob_score=True, random_state=42)</pre></div></div></div></div></div>"
            ]
          },
          "metadata": {},
          "execution_count": 39
        }
      ]
    },
    {
      "cell_type": "code",
      "source": [
        "y_knn_pred = knn.predict(X_test)\n",
        "y_svc = svc_model.predict(X_test)\n",
        "y_pXG = model.predict(X_test)\n",
        "y_dtree = dtree.predict(X_test)\n",
        "y_rf = rf.predict(X_test)"
      ],
      "metadata": {
        "id": "VG3Zicl1nhX-"
      },
      "execution_count": null,
      "outputs": []
    },
    {
      "cell_type": "code",
      "source": [
        "from sklearn.metrics import accuracy_score\n",
        "print(\"Akurasi KNN:\",accuracy_score(y_test, y_knn_pred))\n",
        "print(\"Akurasi SVC:\",accuracy_score(y_test, y_svc))\n",
        "print(\"Akurasi XGB:\",accuracy_score(y_test, y_pXG))\n",
        "print(\"Akurasi DT:\",accuracy_score(y_test, y_dtree))\n",
        "print(\"Akurasi RF:\",accuracy_score(y_test, y_rf))"
      ],
      "metadata": {
        "colab": {
          "base_uri": "https://localhost:8080/"
        },
        "id": "GqJcud7DnDDX",
        "outputId": "21d1ba6c-06a8-44db-cc39-1afbb0092d52"
      },
      "execution_count": null,
      "outputs": [
        {
          "output_type": "stream",
          "name": "stdout",
          "text": [
            "Akurasi KNN: 0.8206521739130435\n",
            "Akurasi SVC: 0.8351449275362319\n",
            "Akurasi XGB: 0.8161231884057971\n",
            "Akurasi DT: 0.7327898550724637\n",
            "Akurasi RF: 0.8351449275362319\n"
          ]
        }
      ]
    },
    {
      "cell_type": "code",
      "source": [
        "from sklearn.metrics import recall_score\n",
        "print(\"Recall KNN:\",recall_score(y_test, y_knn_pred, average='macro'))\n",
        "print(\"Recall SVC:\",recall_score(y_test, y_svc, average='macro'))\n",
        "print(\"Recall XGB:\",recall_score(y_test, y_pXG, average='macro'))\n",
        "print(\"Recall DT:\",recall_score(y_test, y_dtree, average='macro'))\n",
        "print(\"Recall RF:\",recall_score(y_test, y_rf, average='macro'))"
      ],
      "metadata": {
        "colab": {
          "base_uri": "https://localhost:8080/"
        },
        "id": "8E7z7S2InDKK",
        "outputId": "a223ba7f-32c5-424e-f12d-b8aa422c5900"
      },
      "execution_count": null,
      "outputs": [
        {
          "output_type": "stream",
          "name": "stdout",
          "text": [
            "Recall KNN: 0.6508783832035993\n",
            "Recall SVC: 0.6604477611940298\n",
            "Recall XGB: 0.660563807755481\n",
            "Recall DT: 0.6613136470756267\n",
            "Recall RF: 0.6604477611940298\n"
          ]
        }
      ]
    },
    {
      "cell_type": "code",
      "source": [
        "from sklearn.metrics import confusion_matrix\n",
        "print(\"Confusion Matrix KNN:\\n\",confusion_matrix(y_test, y_knn_pred))\n",
        "print(\"Confusion Matrix SVC:\\n\",confusion_matrix(y_test, y_svc))\n",
        "print(\"Confusion Matrix XGB:\\n\",confusion_matrix(y_test, y_pXG))\n",
        "print(\"Confusion Matrix DT:\\n\",confusion_matrix(y_test, y_dtree))\n",
        "print(\"Confusion Matrix RF:\\n\",confusion_matrix(y_test, y_rf))"
      ],
      "metadata": {
        "colab": {
          "base_uri": "https://localhost:8080/"
        },
        "id": "ZGVjjqKknnrp",
        "outputId": "7041d237-4825-4f08-d5d5-c508599911b9"
      },
      "execution_count": null,
      "outputs": [
        {
          "output_type": "stream",
          "name": "stdout",
          "text": [
            "Confusion Matrix KNN:\n",
            " [[820  16]\n",
            " [182  86]]\n",
            "Confusion Matrix SVC:\n",
            " [[836   0]\n",
            " [182  86]]\n",
            "Confusion Matrix XGB:\n",
            " [[805  31]\n",
            " [172  96]]\n",
            "Confusion Matrix DT:\n",
            " [[669 167]\n",
            " [128 140]]\n",
            "Confusion Matrix RF:\n",
            " [[836   0]\n",
            " [182  86]]\n"
          ]
        }
      ]
    },
    {
      "cell_type": "code",
      "source": [
        "from sklearn.metrics import classification_report\n",
        "print(\"KNeighbors:\\n\", classification_report(y_test, y_knn_pred))\n",
        "print(\"Super Vector:\\n\", classification_report(y_test, y_svc))\n",
        "print(\"XGBoost:\\n\", classification_report(y_test, y_pXG))\n",
        "print(\"Decision Tree:\\n\", classification_report(y_test, y_dtree))\n",
        "print(\"Random Forest:\\n\", classification_report(y_test, y_rf))"
      ],
      "metadata": {
        "colab": {
          "base_uri": "https://localhost:8080/"
        },
        "id": "KTrI79F5ntc_",
        "outputId": "a7633108-1117-4906-a3bf-c8a6578528b4"
      },
      "execution_count": null,
      "outputs": [
        {
          "output_type": "stream",
          "name": "stdout",
          "text": [
            "KNeighbors:\n",
            "               precision    recall  f1-score   support\n",
            "\n",
            "           0       0.82      0.98      0.89       836\n",
            "           1       0.84      0.32      0.46       268\n",
            "\n",
            "    accuracy                           0.82      1104\n",
            "   macro avg       0.83      0.65      0.68      1104\n",
            "weighted avg       0.82      0.82      0.79      1104\n",
            "\n",
            "Super Vector:\n",
            "               precision    recall  f1-score   support\n",
            "\n",
            "           0       0.82      1.00      0.90       836\n",
            "           1       1.00      0.32      0.49       268\n",
            "\n",
            "    accuracy                           0.84      1104\n",
            "   macro avg       0.91      0.66      0.69      1104\n",
            "weighted avg       0.86      0.84      0.80      1104\n",
            "\n",
            "XGBoost:\n",
            "               precision    recall  f1-score   support\n",
            "\n",
            "           0       0.82      0.96      0.89       836\n",
            "           1       0.76      0.36      0.49       268\n",
            "\n",
            "    accuracy                           0.82      1104\n",
            "   macro avg       0.79      0.66      0.69      1104\n",
            "weighted avg       0.81      0.82      0.79      1104\n",
            "\n",
            "Decision Tree:\n",
            "               precision    recall  f1-score   support\n",
            "\n",
            "           0       0.84      0.80      0.82       836\n",
            "           1       0.46      0.52      0.49       268\n",
            "\n",
            "    accuracy                           0.73      1104\n",
            "   macro avg       0.65      0.66      0.65      1104\n",
            "weighted avg       0.75      0.73      0.74      1104\n",
            "\n",
            "Random Forest:\n",
            "               precision    recall  f1-score   support\n",
            "\n",
            "           0       0.82      1.00      0.90       836\n",
            "           1       1.00      0.32      0.49       268\n",
            "\n",
            "    accuracy                           0.84      1104\n",
            "   macro avg       0.91      0.66      0.69      1104\n",
            "weighted avg       0.86      0.84      0.80      1104\n",
            "\n"
          ]
        }
      ]
    },
    {
      "cell_type": "code",
      "source": [
        "from sklearn.model_selection import GridSearchCV\n",
        "from sklearn.metrics import accuracy_score, recall_score\n",
        "from xgboost import XGBClassifier\n",
        "\n",
        "model = XGBClassifier()\n",
        "\n",
        "param_grid = {\n",
        "    'max_depth': [3, 5, 10],\n",
        "    'learning_rate': [0.01, 0.1, 0.3],\n",
        "    'n_estimators': [100, 300, 500],\n",
        "    'gamma': [0, 0.1, 0.2],\n",
        "    'subsample': [0.5, 0.7, 1.0],\n",
        "    'colsample_bytree': [0.5, 0.7, 1.0],\n",
        "    'random_state': [42]\n",
        "}\n",
        "\n",
        "grid_search = GridSearchCV(estimator=model, param_grid=param_grid, cv=5, scoring='accuracy')\n",
        "\n",
        "grid_search.fit(X_train, y_train)\n",
        "\n",
        "best_params = grid_search.best_params_\n",
        "best_model = grid_search.best_estimator_\n",
        "\n",
        "y_pred = best_model.predict(X_test)\n",
        "\n",
        "accuracy = accuracy_score(y_test, y_pred)\n",
        "recall = recall_score(y_test, y_pXG, average='macro')\n",
        "print(f'Best Parameters: {best_params}')\n",
        "print(f'Test Accuracy: {accuracy}')\n",
        "print(f'Recall: {recall}')"
      ],
      "metadata": {
        "id": "7F2kU2ZWonLr"
      },
      "execution_count": null,
      "outputs": []
    }
  ]
}